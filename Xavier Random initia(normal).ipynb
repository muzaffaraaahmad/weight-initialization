{
 "cells": [
  {
   "cell_type": "code",
   "execution_count": 1,
   "metadata": {
    "executionInfo": {
     "elapsed": 535,
     "status": "ok",
     "timestamp": 1656074163405,
     "user": {
      "displayName": "CampusX",
      "userId": "17274569631252575216"
     },
     "user_tz": -330
    },
    "id": "cKVzInXrteyO"
   },
   "outputs": [],
   "source": [
    "import numpy as np\n",
    "import pandas as pd\n",
    "import matplotlib.pyplot as plt"
   ]
  },
  {
   "cell_type": "code",
   "execution_count": 2,
   "metadata": {
    "executionInfo": {
     "elapsed": 549,
     "status": "ok",
     "timestamp": 1656074200515,
     "user": {
      "displayName": "CampusX",
      "userId": "17274569631252575216"
     },
     "user_tz": -330
    },
    "id": "l-CtLegnti3_"
   },
   "outputs": [],
   "source": [
    "df = pd.read_csv('ushape.csv')"
   ]
  },
  {
   "cell_type": "code",
   "execution_count": 3,
   "metadata": {
    "colab": {
     "base_uri": "https://localhost:8080/",
     "height": 206
    },
    "executionInfo": {
     "elapsed": 17,
     "status": "ok",
     "timestamp": 1656074201668,
     "user": {
      "displayName": "CampusX",
      "userId": "17274569631252575216"
     },
     "user_tz": -330
    },
    "id": "T9P8j9Ubtt9t",
    "outputId": "5e2b98b4-108b-4466-b18a-1dd114692c32"
   },
   "outputs": [
    {
     "data": {
      "text/html": [
       "<div>\n",
       "<style scoped>\n",
       "    .dataframe tbody tr th:only-of-type {\n",
       "        vertical-align: middle;\n",
       "    }\n",
       "\n",
       "    .dataframe tbody tr th {\n",
       "        vertical-align: top;\n",
       "    }\n",
       "\n",
       "    .dataframe thead th {\n",
       "        text-align: right;\n",
       "    }\n",
       "</style>\n",
       "<table border=\"1\" class=\"dataframe\">\n",
       "  <thead>\n",
       "    <tr style=\"text-align: right;\">\n",
       "      <th></th>\n",
       "      <th>X</th>\n",
       "      <th>Y</th>\n",
       "      <th>class</th>\n",
       "    </tr>\n",
       "  </thead>\n",
       "  <tbody>\n",
       "    <tr>\n",
       "      <th>0</th>\n",
       "      <td>0.455</td>\n",
       "      <td>0.365</td>\n",
       "      <td>1</td>\n",
       "    </tr>\n",
       "    <tr>\n",
       "      <th>1</th>\n",
       "      <td>0.350</td>\n",
       "      <td>0.265</td>\n",
       "      <td>0</td>\n",
       "    </tr>\n",
       "    <tr>\n",
       "      <th>2</th>\n",
       "      <td>0.530</td>\n",
       "      <td>0.420</td>\n",
       "      <td>0</td>\n",
       "    </tr>\n",
       "    <tr>\n",
       "      <th>3</th>\n",
       "      <td>0.440</td>\n",
       "      <td>0.365</td>\n",
       "      <td>1</td>\n",
       "    </tr>\n",
       "    <tr>\n",
       "      <th>4</th>\n",
       "      <td>0.330</td>\n",
       "      <td>0.255</td>\n",
       "      <td>1</td>\n",
       "    </tr>\n",
       "  </tbody>\n",
       "</table>\n",
       "</div>"
      ],
      "text/plain": [
       "       X      Y  class\n",
       "0  0.455  0.365      1\n",
       "1  0.350  0.265      0\n",
       "2  0.530  0.420      0\n",
       "3  0.440  0.365      1\n",
       "4  0.330  0.255      1"
      ]
     },
     "execution_count": 3,
     "metadata": {},
     "output_type": "execute_result"
    }
   ],
   "source": [
    "df.head()"
   ]
  },
  {
   "cell_type": "code",
   "execution_count": 4,
   "metadata": {
    "colab": {
     "base_uri": "https://localhost:8080/",
     "height": 283
    },
    "executionInfo": {
     "elapsed": 558,
     "status": "ok",
     "timestamp": 1656074208992,
     "user": {
      "displayName": "CampusX",
      "userId": "17274569631252575216"
     },
     "user_tz": -330
    },
    "id": "ZuYqGD_mtuQG",
    "outputId": "97e607c8-ada0-45c7-d9cc-17fd3bd502a5"
   },
   "outputs": [
    {
     "data": {
      "text/plain": [
       "<matplotlib.collections.PathCollection at 0x7fe234056d60>"
      ]
     },
     "execution_count": 4,
     "metadata": {},
     "output_type": "execute_result"
    },
    {
     "data": {
      "image/png": "[encoded data removed]",
      "text/plain": [
       "<Figure size 432x288 with 1 Axes>"
      ]
     },
     "metadata": {
      "needs_background": "light"
     },
     "output_type": "display_data"
    }
   ],
   "source": [
    "plt.scatter(df['X'],df['Y'],c=df['class'])"
   ]
  },
  {
   "cell_type": "code",
   "execution_count": 5,
   "metadata": {
    "executionInfo": {
     "elapsed": 486,
     "status": "ok",
     "timestamp": 1656074216198,
     "user": {
      "displayName": "CampusX",
      "userId": "17274569631252575216"
     },
     "user_tz": -330
    },
    "id": "nwXuHnqhtwEJ"
   },
   "outputs": [],
   "source": [
    "X = df.iloc[:,0:2].values\n",
    "y = df.iloc[:,-1].values"
   ]
  },
  {
   "cell_type": "code",
   "execution_count": 6,
   "metadata": {
    "executionInfo": {
     "elapsed": 4640,
     "status": "ok",
     "timestamp": 1656074226724,
     "user": {
      "displayName": "CampusX",
      "userId": "17274569631252575216"
     },
     "user_tz": -330
    },
    "id": "ylDVIM8Ltx0H"
   },
   "outputs": [
    {
     "name": "stderr",
     "output_type": "stream",
     "text": [
      "2023-04-05 14:06:59.268302: I tensorflow/core/platform/cpu_feature_guard.cc:193] This TensorFlow binary is optimized with oneAPI Deep Neural Network Library (oneDNN) to use the following CPU instructions in performance-critical operations:  AVX2 FMA\n",
      "To enable them in other operations, rebuild TensorFlow with the appropriate compiler flags.\n"
     ]
    }
   ],
   "source": [
    "import tensorflow\n",
    "from tensorflow import keras\n",
    "from keras import Sequential\n",
    "from keras.layers import Dense"
   ]
  },
  {
   "cell_type": "code",
   "execution_count": 7,
   "metadata": {
    "colab": {
     "base_uri": "https://localhost:8080/"
    },
    "executionInfo": {
     "elapsed": 550,
     "status": "ok",
     "timestamp": 1656079560422,
     "user": {
      "displayName": "CampusX",
      "userId": "17274569631252575216"
     },
     "user_tz": -330
    },
    "id": "id8rhK5OtzVX",
    "outputId": "d69e652e-27db-472d-9ca4-90a863607606"
   },
   "outputs": [
    {
     "name": "stdout",
     "output_type": "stream",
     "text": [
      "Model: \"sequential\"\n",
      "_________________________________________________________________\n",
      " Layer (type)                Output Shape              Param #   \n",
      "=================================================================\n",
      " dense (Dense)               (None, 10)                30        \n",
      "                                                                 \n",
      " dense_1 (Dense)             (None, 10)                110       \n",
      "                                                                 \n",
      " dense_2 (Dense)             (None, 10)                110       \n",
      "                                                                 \n",
      " dense_3 (Dense)             (None, 10)                110       \n",
      "                                                                 \n",
      " dense_4 (Dense)             (None, 1)                 11        \n",
      "                                                                 \n",
      "=================================================================\n",
      "Total params: 371\n",
      "Trainable params: 371\n",
      "Non-trainable params: 0\n",
      "_________________________________________________________________\n"
     ]
    },
    {
     "name": "stderr",
     "output_type": "stream",
     "text": [
      "2023-04-05 14:07:34.445289: I tensorflow/core/platform/cpu_feature_guard.cc:193] This TensorFlow binary is optimized with oneAPI Deep Neural Network Library (oneDNN) to use the following CPU instructions in performance-critical operations:  AVX2 FMA\n",
      "To enable them in other operations, rebuild TensorFlow with the appropriate compiler flags.\n"
     ]
    }
   ],
   "source": [
    "model = Sequential()\n",
    "\n",
    "model.add(Dense(10,activation='tanh',input_dim=2))\n",
    "model.add(Dense(10,activation='tanh'))\n",
    "model.add(Dense(10,activation='tanh'))\n",
    "model.add(Dense(10,activation='tanh'))\n",
    "model.add(Dense(1,activation='sigmoid'))\n",
    "\n",
    "model.summary()"
   ]
  },
  {
   "cell_type": "code",
   "execution_count": 8,
   "metadata": {
    "colab": {
     "base_uri": "https://localhost:8080/"
    },
    "executionInfo": {
     "elapsed": 433,
     "status": "ok",
     "timestamp": 1656079564583,
     "user": {
      "displayName": "CampusX",
      "userId": "17274569631252575216"
     },
     "user_tz": -330
    },
    "id": "YjST2L1qt1UP",
    "outputId": "e4214b79-73df-4831-ab15-4713b9f2058d"
   },
   "outputs": [
    {
     "data": {
      "text/plain": [
       "[array([[ 0.33967346, -0.15656507, -0.19613004,  0.5979046 , -0.07999808,\n",
       "          0.29740387, -0.10093528,  0.0573256 ,  0.2239756 ,  0.38931257],\n",
       "        [ 0.49266356, -0.3105513 ,  0.34892756, -0.20988253,  0.69209427,\n",
       "          0.43415338,  0.64992815,  0.52421135,  0.6125222 ,  0.5665191 ]],\n",
       "       dtype=float32),\n",
       " array([0., 0., 0., 0., 0., 0., 0., 0., 0., 0.], dtype=float32),\n",
       " array([[-0.17426947, -0.5387495 , -0.35975242, -0.5238618 ,  0.38522494,\n",
       "         -0.03902978,  0.3675254 ,  0.3871482 ,  0.3430869 , -0.41114557],\n",
       "        [-0.3114678 , -0.18108141, -0.41991854,  0.2174139 , -0.22682676,\n",
       "          0.02229071,  0.00267428,  0.44936037,  0.29199696, -0.41165304],\n",
       "        [-0.37024865, -0.14141098,  0.07766873, -0.24591902,  0.27169   ,\n",
       "          0.43351763,  0.05877495,  0.5427228 , -0.31900948,  0.38889337],\n",
       "        [-0.01384395,  0.41137278, -0.495703  ,  0.49871564,  0.2583738 ,\n",
       "          0.19245648, -0.27844843,  0.5390587 ,  0.12427127, -0.17333275],\n",
       "        [ 0.07540029, -0.5295284 ,  0.36305773,  0.05082053, -0.45568508,\n",
       "          0.4245488 , -0.06416559, -0.10964796,  0.49896145, -0.13409886],\n",
       "        [-0.42538258,  0.46346116, -0.23787862, -0.1908893 , -0.46903148,\n",
       "          0.3674081 ,  0.23755062,  0.17381424,  0.42196053, -0.34040213],\n",
       "        [-0.12233335,  0.12325841,  0.40207642, -0.41865826, -0.51721674,\n",
       "         -0.0119794 , -0.37247175,  0.41960746,  0.23151171, -0.07069209],\n",
       "        [-0.13816497, -0.09495521,  0.13910651,  0.04209673, -0.14770213,\n",
       "         -0.248557  ,  0.10502595, -0.33230796,  0.10440081,  0.30198246],\n",
       "        [-0.2762675 ,  0.05898494,  0.38178122, -0.37645704,  0.28543657,\n",
       "          0.17787993, -0.52698547,  0.34957862,  0.31314975, -0.1632432 ],\n",
       "        [ 0.01863271,  0.15250123, -0.46190703,  0.44037193, -0.01729602,\n",
       "         -0.23128161,  0.00675792, -0.32046306, -0.20787138, -0.3534251 ]],\n",
       "       dtype=float32),\n",
       " array([0., 0., 0., 0., 0., 0., 0., 0., 0., 0.], dtype=float32),\n",
       " array([[-0.06784424, -0.12826476, -0.20686716, -0.26616943, -0.44059756,\n",
       "         -0.27599418, -0.38633648, -0.49949098, -0.46523166, -0.34081128],\n",
       "        [ 0.29825056,  0.25384605,  0.5086907 , -0.23221126, -0.2624328 ,\n",
       "          0.3523624 , -0.23255432,  0.1271925 ,  0.2814902 , -0.26165476],\n",
       "        [-0.25427452,  0.25574154, -0.01216799,  0.2392605 ,  0.05161369,\n",
       "          0.19554853,  0.1069141 ,  0.22814178, -0.10243499,  0.03825033],\n",
       "        [ 0.44166392,  0.17871922, -0.38849914, -0.33712047, -0.3684045 ,\n",
       "          0.14616293,  0.41857743, -0.22639647,  0.29558092, -0.08855721],\n",
       "        [ 0.1432913 ,  0.10927081,  0.35501915,  0.5296401 ,  0.201038  ,\n",
       "         -0.4402434 , -0.16225842,  0.32929033, -0.5013252 ,  0.19241601],\n",
       "        [-0.12272236,  0.17060596,  0.00454551,  0.20070791, -0.06844953,\n",
       "          0.38194132,  0.31636834,  0.15216571,  0.004637  ,  0.46804404],\n",
       "        [ 0.17424309,  0.12817371, -0.1664482 , -0.43681496,  0.12803137,\n",
       "         -0.16222826, -0.03149426,  0.28619653, -0.15382993, -0.26487714],\n",
       "        [-0.1835106 ,  0.26089567,  0.5289084 ,  0.17177957, -0.38757157,\n",
       "         -0.41868058,  0.19008565, -0.3079725 , -0.3084331 ,  0.01775843],\n",
       "        [-0.0133695 , -0.3092798 ,  0.118325  ,  0.47769296,  0.4961815 ,\n",
       "          0.49889624,  0.2673903 , -0.34847778,  0.03254092,  0.22096574],\n",
       "        [-0.3284598 , -0.38752574, -0.16996974, -0.09625143, -0.08556795,\n",
       "          0.10326278, -0.13706684,  0.46716917,  0.31051397,  0.07968879]],\n",
       "       dtype=float32),\n",
       " array([0., 0., 0., 0., 0., 0., 0., 0., 0., 0.], dtype=float32),\n",
       " array([[ 0.30335206, -0.28437436,  0.36293548,  0.51077914,  0.28716278,\n",
       "          0.05001241, -0.25044334, -0.44414848, -0.26183304,  0.11234015],\n",
       "        [-0.07096398, -0.05724946,  0.02239025, -0.49426055,  0.30814368,\n",
       "         -0.21462756, -0.00976372, -0.5068865 , -0.11137787, -0.51047516],\n",
       "        [-0.3094856 , -0.48431033,  0.4263091 , -0.22180557, -0.26840588,\n",
       "         -0.0517866 ,  0.2133457 ,  0.35023522, -0.36921716, -0.5323658 ],\n",
       "        [ 0.32077044, -0.23202324,  0.48685408,  0.28600055,  0.22697133,\n",
       "          0.07290673, -0.2720981 , -0.15444893,  0.39150107, -0.53943485],\n",
       "        [-0.4594998 ,  0.02488953,  0.3020689 , -0.10194018, -0.12045157,\n",
       "         -0.14152509,  0.07108802,  0.07511741, -0.40416607,  0.19569123],\n",
       "        [ 0.4397238 ,  0.02818477,  0.2030446 ,  0.37404913,  0.04133737,\n",
       "          0.49459243, -0.32921785,  0.06750458,  0.434166  , -0.4469279 ],\n",
       "        [ 0.06304502,  0.17556882, -0.34807205,  0.12988418,  0.47506773,\n",
       "         -0.12357667,  0.05642855,  0.09259742,  0.4027812 ,  0.16282374],\n",
       "        [-0.2035667 , -0.00939131, -0.22417781, -0.12657312, -0.0791851 ,\n",
       "         -0.46686035, -0.19690964, -0.16074637,  0.4919132 ,  0.40216327],\n",
       "        [ 0.13875902, -0.47003937, -0.4972481 ,  0.04003716,  0.51953816,\n",
       "          0.12243181, -0.5177866 , -0.39270207,  0.12906235,  0.48518705],\n",
       "        [-0.42424634, -0.4594502 ,  0.10430002,  0.43771404,  0.39071977,\n",
       "         -0.3922671 , -0.1043849 ,  0.1860373 , -0.01123154, -0.53606504]],\n",
       "       dtype=float32),\n",
       " array([0., 0., 0., 0., 0., 0., 0., 0., 0., 0.], dtype=float32),\n",
       " array([[ 0.38147527],\n",
       "        [-0.65473956],\n",
       "        [-0.03619385],\n",
       "        [ 0.11658913],\n",
       "        [ 0.28291553],\n",
       "        [-0.5954178 ],\n",
       "        [-0.6316946 ],\n",
       "        [ 0.65105027],\n",
       "        [-0.11412239],\n",
       "        [ 0.63908726]], dtype=float32),\n",
       " array([0.], dtype=float32)]"
      ]
     },
     "execution_count": 8,
     "metadata": {},
     "output_type": "execute_result"
    }
   ],
   "source": [
    "model.get_weights()"
   ]
  },
  {
   "cell_type": "code",
   "execution_count": 9,
   "metadata": {
    "executionInfo": {
     "elapsed": 7,
     "status": "ok",
     "timestamp": 1656074966386,
     "user": {
      "displayName": "CampusX",
      "userId": "17274569631252575216"
     },
     "user_tz": -330
    },
    "id": "SNnRle4Dt4bc"
   },
   "outputs": [],
   "source": [
    "initial_weights = model.get_weights()"
   ]
  },
  {
   "cell_type": "markdown",
   "metadata": {},
   "source": [
    "# Initialization of weights according to Xavier"
   ]
  },
  {
   "cell_type": "code",
   "execution_count": 10,
   "metadata": {
    "executionInfo": {
     "elapsed": 7,
     "status": "ok",
     "timestamp": 1656074968030,
     "user": {
      "displayName": "CampusX",
      "userId": "17274569631252575216"
     },
     "user_tz": -330
    },
    "id": "T6mklkSot6GI"
   },
   "outputs": [],
   "source": [
    "initial_weights[0] = np.random.randn(2,10)*np.sqrt(1/2)\n",
    "initial_weights[1] = np.zeros(model.get_weights()[1].shape)\n",
    "initial_weights[2] = np.random.randn(10,10)*np.sqrt(1/10)\n",
    "initial_weights[3] = np.zeros(model.get_weights()[3].shape)\n",
    "initial_weights[4] = np.random.randn(10,10)*np.sqrt(1/10)\n",
    "initial_weights[5] = np.zeros(model.get_weights()[5].shape)\n",
    "initial_weights[6] = np.random.randn(10,10)*np.sqrt(1/10)\n",
    "initial_weights[7] = np.zeros(model.get_weights()[7].shape)\n",
    "initial_weights[8] = np.random.randn(10,1)*np.sqrt(1/10)\n",
    "initial_weights[9] = np.zeros(model.get_weights()[9].shape)"
   ]
  },
  {
   "cell_type": "code",
   "execution_count": 11,
   "metadata": {
    "executionInfo": {
     "elapsed": 8,
     "status": "ok",
     "timestamp": 1656074970112,
     "user": {
      "displayName": "CampusX",
      "userId": "17274569631252575216"
     },
     "user_tz": -330
    },
    "id": "cnoX9yK8ueEM"
   },
   "outputs": [],
   "source": [
    "model.set_weights(initial_weights)"
   ]
  },
  {
   "cell_type": "markdown",
   "metadata": {},
   "source": [
    "# wieghts before Training"
   ]
  },
  {
   "cell_type": "code",
   "execution_count": 12,
   "metadata": {
    "colab": {
     "base_uri": "https://localhost:8080/"
    },
    "executionInfo": {
     "elapsed": 9,
     "status": "ok",
     "timestamp": 1656074971528,
     "user": {
      "displayName": "CampusX",
      "userId": "17274569631252575216"
     },
     "user_tz": -330
    },
    "id": "1guey_KUujTP",
    "outputId": "fb013401-4046-46da-b07b-f080061fdc8a"
   },
   "outputs": [
    {
     "data": {
      "text/plain": [
       "[array([[-2.1187499 ,  0.35897776,  0.13677388, -0.28915355,  0.6974213 ,\n",
       "          0.35033962,  0.6943383 , -0.2877666 ,  1.2778739 ,  0.15585491],\n",
       "        [-0.09081965, -0.4293246 , -0.895287  , -1.1555737 , -0.6686691 ,\n",
       "         -0.97372556, -0.32661542, -0.1675525 ,  0.07607233,  1.4272399 ]],\n",
       "       dtype=float32),\n",
       " array([0., 0., 0., 0., 0., 0., 0., 0., 0., 0.], dtype=float32),\n",
       " array([[-0.03340156, -0.34173766, -0.03085214, -0.13495006,  0.42004174,\n",
       "         -0.00718797,  0.1324912 , -0.39698452, -0.30748075,  0.15006323],\n",
       "        [-0.25711143, -0.23452482,  0.42454335, -0.0258646 ,  0.04296152,\n",
       "         -0.23648235, -0.44166166,  0.04641585,  0.59612805,  0.08779025],\n",
       "        [ 0.08178271,  0.04798024, -0.29575017, -0.19783004, -0.19695906,\n",
       "         -0.10003392,  0.16407576, -0.28707796, -0.47134656,  0.3353875 ],\n",
       "        [-0.09463985,  0.3252943 ,  0.38229248, -0.01900019, -0.09504994,\n",
       "          0.33128408, -0.17579307,  0.63143826, -0.00909944,  0.05795936],\n",
       "        [-0.10606519,  0.13685466, -0.04070706, -0.36510086, -0.24091835,\n",
       "          0.14094917,  0.02193237,  0.37013534, -0.55538803, -0.0637699 ],\n",
       "        [ 0.24204351,  0.22498272, -0.00567738, -0.40481395, -0.19827418,\n",
       "          0.23551938,  0.26236498, -0.19034792, -0.06513745,  0.00093815],\n",
       "        [ 0.0598599 ,  0.28850502, -0.05489069,  0.2269152 ,  0.16509843,\n",
       "         -0.56371003, -0.29395914,  0.14846848, -0.49209574, -0.3771497 ],\n",
       "        [ 0.00806233, -0.43565437,  0.35288846,  0.1358708 ,  0.05915139,\n",
       "          0.0895574 ,  0.12494962,  0.3536298 , -0.15628561,  0.1321046 ],\n",
       "        [ 0.1168106 ,  0.12346086, -0.46642184, -0.26273522, -0.01777522,\n",
       "          0.06903046,  0.29886284, -0.16999082, -0.44550818,  0.26764274],\n",
       "        [ 0.27266303, -0.09084447, -0.07649086,  0.07087629, -0.7168938 ,\n",
       "         -0.3051074 ,  0.15897065, -0.46322885, -0.17896858,  0.03403324]],\n",
       "       dtype=float32),\n",
       " array([0., 0., 0., 0., 0., 0., 0., 0., 0., 0.], dtype=float32),\n",
       " array([[ 0.67793983,  0.47259843,  0.44469538, -0.4064919 , -0.10839313,\n",
       "         -0.2082048 , -0.09085617, -0.05009334,  0.18522061,  0.32868874],\n",
       "        [-0.3160739 ,  0.5089774 ,  0.16749671, -0.0154142 ,  0.22976688,\n",
       "         -0.0232319 ,  0.8324041 , -0.07571961,  0.3946288 ,  0.27456877],\n",
       "        [-0.20986132,  0.39272264, -0.04022066, -0.79485637,  0.02495   ,\n",
       "         -0.00498789,  0.09192706,  0.01711918,  0.34296963, -0.18859005],\n",
       "        [-0.02394222,  0.0322388 ,  0.0234304 ,  0.32830647, -0.20528117,\n",
       "         -0.51025826,  0.21729487, -0.3424317 , -0.26331946, -0.03436106],\n",
       "        [-0.28567645,  0.7322546 , -0.02585736, -0.60006315, -0.53873163,\n",
       "         -0.14861274, -0.38844946, -0.11568725,  0.39299217, -0.09922946],\n",
       "        [ 0.17956935,  0.26456344, -0.16676883, -0.25357798,  0.36233446,\n",
       "          0.12702352,  0.25374225, -0.20759267, -0.03510048,  0.20705727],\n",
       "        [ 0.2625617 ,  0.19416706, -0.14297803, -0.25271145, -0.38279054,\n",
       "         -0.06662553, -0.15475686, -0.43901354, -0.41245237, -0.1610133 ],\n",
       "        [ 0.18106765,  0.05298233,  0.49712822,  0.41068894,  0.17564823,\n",
       "          0.10281683,  0.25727174, -0.17309898, -0.13403141, -0.08514656],\n",
       "        [ 0.6145088 ,  0.34509873,  0.15851508,  0.52798927, -0.16565485,\n",
       "         -0.12910761, -0.2611639 ,  0.17162424, -0.09409988, -0.34128445],\n",
       "        [-0.36852655, -0.3565849 , -0.06590156,  0.1351605 , -0.19013323,\n",
       "          0.27502367, -0.30994225,  0.15027706, -0.20711222,  0.36180547]],\n",
       "       dtype=float32),\n",
       " array([0., 0., 0., 0., 0., 0., 0., 0., 0., 0.], dtype=float32),\n",
       " array([[ 0.33617398,  0.22410318, -0.45355514,  0.26964918, -0.1388031 ,\n",
       "         -0.72444797,  0.6682851 , -0.28831628,  0.04638115, -0.3862842 ],\n",
       "        [ 0.16672085, -0.16554897, -0.00419279, -0.32256293, -0.37231258,\n",
       "          0.2332484 ,  0.14241783, -0.27077076,  0.13484135,  0.11129425],\n",
       "        [-0.2903925 ,  0.08012804, -0.44228214, -0.79206663,  0.2317044 ,\n",
       "          0.08638801, -0.15839382,  0.33910236, -0.43822792,  0.01636438],\n",
       "        [ 0.03124658, -0.43799284,  0.18711638,  0.0690993 ,  0.0792238 ,\n",
       "          0.3139181 ,  0.32819712, -0.0570709 ,  0.04979655, -0.3390962 ],\n",
       "        [-0.3599514 , -0.07583915,  0.21058454, -0.01201951,  0.16317567,\n",
       "          0.5773744 , -0.03498362,  0.24676979,  0.22587591, -0.08506486],\n",
       "        [-0.05125364,  0.12302089,  0.12413927, -0.6508687 ,  0.11662943,\n",
       "          0.45027187, -0.18214516, -0.16965967, -0.40177703, -0.4374878 ],\n",
       "        [-0.5585988 ,  0.02251416, -0.15247163, -0.29386747,  0.05467832,\n",
       "         -0.43725723, -0.3570737 , -0.12155053,  0.20096709, -0.13163622],\n",
       "        [-0.35791838, -0.18778291,  0.26957387, -0.27766618, -0.9709811 ,\n",
       "         -0.3578997 ,  0.40667552, -0.8320519 ,  0.39774826,  0.27541548],\n",
       "        [ 0.9355393 , -0.07244039,  0.21966532, -0.1178357 ,  0.11729457,\n",
       "         -0.49187404,  0.02315095,  0.24240829, -0.02508722,  0.02490392],\n",
       "        [-0.04241421,  0.06581317, -0.5167715 , -0.17487328,  0.34281793,\n",
       "          0.2783748 ,  0.09908685,  0.24765186, -0.1481784 , -0.11235111]],\n",
       "       dtype=float32),\n",
       " array([0., 0., 0., 0., 0., 0., 0., 0., 0., 0.], dtype=float32),\n",
       " array([[ 0.04654095],\n",
       "        [-0.00240613],\n",
       "        [-0.09785473],\n",
       "        [ 0.20322236],\n",
       "        [ 0.16907035],\n",
       "        [-0.17951897],\n",
       "        [-0.26900744],\n",
       "        [-0.50113803],\n",
       "        [-0.50973105],\n",
       "        [-1.1905473 ]], dtype=float32),\n",
       " array([0.], dtype=float32)]"
      ]
     },
     "execution_count": 12,
     "metadata": {},
     "output_type": "execute_result"
    }
   ],
   "source": [
    "model.get_weights()"
   ]
  },
  {
   "cell_type": "code",
   "execution_count": 13,
   "metadata": {
    "executionInfo": {
     "elapsed": 20,
     "status": "ok",
     "timestamp": 1656079585068,
     "user": {
      "displayName": "CampusX",
      "userId": "17274569631252575216"
     },
     "user_tz": -330
    },
    "id": "bjAyhD8mulGG"
   },
   "outputs": [],
   "source": [
    "model.compile(loss='binary_crossentropy',optimizer='adam',metrics=['accuracy'])"
   ]
  },
  {
   "cell_type": "code",
   "execution_count": 14,
   "metadata": {
    "colab": {
     "base_uri": "https://localhost:8080/"
    },
    "executionInfo": {
     "elapsed": 5698,
     "status": "ok",
     "timestamp": 1656079590749,
     "user": {
      "displayName": "CampusX",
      "userId": "17274569631252575216"
     },
     "user_tz": -330
    },
    "id": "H1wa0jCaun8z",
    "outputId": "b9e3d128-6954-4c3a-9624-0b5c59909728"
   },
   "outputs": [
    {
     "name": "stdout",
     "output_type": "stream",
     "text": [
      "Epoch 1/100\n",
      "8/8 [==============================] - 1s 27ms/step - loss: 0.7019 - accuracy: 0.4958 - val_loss: 0.7002 - val_accuracy: 0.4590\n",
      "Epoch 2/100\n",
      "8/8 [==============================] - 0s 7ms/step - loss: 0.6950 - accuracy: 0.5000 - val_loss: 0.6954 - val_accuracy: 0.4590\n",
      "Epoch 3/100\n",
      "8/8 [==============================] - 0s 6ms/step - loss: 0.6928 - accuracy: 0.4958 - val_loss: 0.6944 - val_accuracy: 0.4426\n",
      "Epoch 4/100\n",
      "8/8 [==============================] - 0s 5ms/step - loss: 0.6936 - accuracy: 0.5167 - val_loss: 0.6931 - val_accuracy: 0.5574\n",
      "Epoch 5/100\n",
      "8/8 [==============================] - 0s 5ms/step - loss: 0.6931 - accuracy: 0.5042 - val_loss: 0.6930 - val_accuracy: 0.5410\n",
      "Epoch 6/100\n",
      "8/8 [==============================] - 0s 6ms/step - loss: 0.6932 - accuracy: 0.5042 - val_loss: 0.6934 - val_accuracy: 0.5410\n",
      "Epoch 7/100\n",
      "8/8 [==============================] - 0s 5ms/step - loss: 0.6928 - accuracy: 0.5042 - val_loss: 0.6941 - val_accuracy: 0.5082\n",
      "Epoch 8/100\n",
      "8/8 [==============================] - 0s 5ms/step - loss: 0.6932 - accuracy: 0.4875 - val_loss: 0.6954 - val_accuracy: 0.4262\n",
      "Epoch 9/100\n",
      "8/8 [==============================] - 0s 6ms/step - loss: 0.6930 - accuracy: 0.5083 - val_loss: 0.6958 - val_accuracy: 0.4262\n",
      "Epoch 10/100\n",
      "8/8 [==============================] - 0s 8ms/step - loss: 0.6930 - accuracy: 0.5125 - val_loss: 0.6958 - val_accuracy: 0.4262\n",
      "Epoch 11/100\n",
      "8/8 [==============================] - 0s 6ms/step - loss: 0.6929 - accuracy: 0.4958 - val_loss: 0.6948 - val_accuracy: 0.5082\n",
      "Epoch 12/100\n",
      "8/8 [==============================] - 0s 6ms/step - loss: 0.6929 - accuracy: 0.5042 - val_loss: 0.6948 - val_accuracy: 0.5082\n",
      "Epoch 13/100\n",
      "8/8 [==============================] - 0s 5ms/step - loss: 0.6927 - accuracy: 0.5042 - val_loss: 0.6950 - val_accuracy: 0.5082\n",
      "Epoch 14/100\n",
      "8/8 [==============================] - 0s 6ms/step - loss: 0.6932 - accuracy: 0.4708 - val_loss: 0.6962 - val_accuracy: 0.4426\n",
      "Epoch 15/100\n",
      "8/8 [==============================] - 0s 5ms/step - loss: 0.6927 - accuracy: 0.4958 - val_loss: 0.6964 - val_accuracy: 0.4426\n",
      "Epoch 16/100\n",
      "8/8 [==============================] - 0s 8ms/step - loss: 0.6927 - accuracy: 0.5250 - val_loss: 0.6963 - val_accuracy: 0.4590\n",
      "Epoch 17/100\n",
      "8/8 [==============================] - 0s 6ms/step - loss: 0.6927 - accuracy: 0.5042 - val_loss: 0.6967 - val_accuracy: 0.4590\n",
      "Epoch 18/100\n",
      "8/8 [==============================] - 0s 5ms/step - loss: 0.6928 - accuracy: 0.4875 - val_loss: 0.6962 - val_accuracy: 0.3770\n",
      "Epoch 19/100\n",
      "8/8 [==============================] - 0s 6ms/step - loss: 0.6928 - accuracy: 0.4667 - val_loss: 0.6971 - val_accuracy: 0.4426\n",
      "Epoch 20/100\n",
      "8/8 [==============================] - 0s 7ms/step - loss: 0.6936 - accuracy: 0.5125 - val_loss: 0.6962 - val_accuracy: 0.4262\n",
      "Epoch 21/100\n",
      "8/8 [==============================] - 0s 6ms/step - loss: 0.6923 - accuracy: 0.4833 - val_loss: 0.6973 - val_accuracy: 0.4426\n",
      "Epoch 22/100\n",
      "8/8 [==============================] - 0s 6ms/step - loss: 0.6926 - accuracy: 0.5167 - val_loss: 0.6977 - val_accuracy: 0.4426\n",
      "Epoch 23/100\n",
      "8/8 [==============================] - 0s 6ms/step - loss: 0.6926 - accuracy: 0.5208 - val_loss: 0.6968 - val_accuracy: 0.4262\n",
      "Epoch 24/100\n",
      "8/8 [==============================] - 0s 7ms/step - loss: 0.6926 - accuracy: 0.4917 - val_loss: 0.6966 - val_accuracy: 0.4262\n",
      "Epoch 25/100\n",
      "8/8 [==============================] - 0s 6ms/step - loss: 0.6933 - accuracy: 0.4833 - val_loss: 0.6981 - val_accuracy: 0.4098\n",
      "Epoch 26/100\n",
      "8/8 [==============================] - 0s 5ms/step - loss: 0.6924 - accuracy: 0.5250 - val_loss: 0.6977 - val_accuracy: 0.4590\n",
      "Epoch 27/100\n",
      "8/8 [==============================] - 0s 5ms/step - loss: 0.6929 - accuracy: 0.5042 - val_loss: 0.6968 - val_accuracy: 0.4590\n",
      "Epoch 28/100\n",
      "8/8 [==============================] - 0s 7ms/step - loss: 0.6924 - accuracy: 0.4917 - val_loss: 0.6971 - val_accuracy: 0.4262\n",
      "Epoch 29/100\n",
      "8/8 [==============================] - 0s 8ms/step - loss: 0.6923 - accuracy: 0.4708 - val_loss: 0.6976 - val_accuracy: 0.3934\n",
      "Epoch 30/100\n",
      "8/8 [==============================] - 0s 5ms/step - loss: 0.6924 - accuracy: 0.5167 - val_loss: 0.6980 - val_accuracy: 0.3934\n",
      "Epoch 31/100\n",
      "8/8 [==============================] - 0s 7ms/step - loss: 0.6923 - accuracy: 0.5208 - val_loss: 0.6982 - val_accuracy: 0.3770\n",
      "Epoch 32/100\n",
      "8/8 [==============================] - 0s 6ms/step - loss: 0.6922 - accuracy: 0.5208 - val_loss: 0.6984 - val_accuracy: 0.4262\n",
      "Epoch 33/100\n",
      "8/8 [==============================] - 0s 5ms/step - loss: 0.6924 - accuracy: 0.5250 - val_loss: 0.6989 - val_accuracy: 0.4426\n",
      "Epoch 34/100\n",
      "8/8 [==============================] - 0s 7ms/step - loss: 0.6924 - accuracy: 0.5292 - val_loss: 0.6985 - val_accuracy: 0.3934\n",
      "Epoch 35/100\n",
      "8/8 [==============================] - 0s 7ms/step - loss: 0.6923 - accuracy: 0.5250 - val_loss: 0.6984 - val_accuracy: 0.3770\n",
      "Epoch 36/100\n",
      "8/8 [==============================] - 0s 5ms/step - loss: 0.6922 - accuracy: 0.5250 - val_loss: 0.6980 - val_accuracy: 0.3770\n",
      "Epoch 37/100\n",
      "8/8 [==============================] - 0s 8ms/step - loss: 0.6924 - accuracy: 0.4917 - val_loss: 0.6973 - val_accuracy: 0.4754\n",
      "Epoch 38/100\n",
      "8/8 [==============================] - 0s 5ms/step - loss: 0.6924 - accuracy: 0.5042 - val_loss: 0.6972 - val_accuracy: 0.4754\n",
      "Epoch 39/100\n",
      "8/8 [==============================] - 0s 5ms/step - loss: 0.6925 - accuracy: 0.4792 - val_loss: 0.6981 - val_accuracy: 0.3934\n",
      "Epoch 40/100\n",
      "8/8 [==============================] - 0s 4ms/step - loss: 0.6925 - accuracy: 0.5042 - val_loss: 0.6981 - val_accuracy: 0.3934\n",
      "Epoch 41/100\n",
      "8/8 [==============================] - 0s 5ms/step - loss: 0.6933 - accuracy: 0.5042 - val_loss: 0.6974 - val_accuracy: 0.4754\n",
      "Epoch 42/100\n",
      "8/8 [==============================] - 0s 5ms/step - loss: 0.6923 - accuracy: 0.5125 - val_loss: 0.6978 - val_accuracy: 0.4426\n",
      "Epoch 43/100\n",
      "8/8 [==============================] - 0s 5ms/step - loss: 0.6926 - accuracy: 0.5042 - val_loss: 0.6987 - val_accuracy: 0.3934\n",
      "Epoch 44/100\n",
      "8/8 [==============================] - 0s 4ms/step - loss: 0.6926 - accuracy: 0.5083 - val_loss: 0.6983 - val_accuracy: 0.4262\n",
      "Epoch 45/100\n",
      "8/8 [==============================] - 0s 5ms/step - loss: 0.6921 - accuracy: 0.5083 - val_loss: 0.6985 - val_accuracy: 0.4262\n",
      "Epoch 46/100\n",
      "8/8 [==============================] - 0s 5ms/step - loss: 0.6921 - accuracy: 0.5250 - val_loss: 0.6992 - val_accuracy: 0.3934\n",
      "Epoch 47/100\n",
      "8/8 [==============================] - 0s 5ms/step - loss: 0.6921 - accuracy: 0.5250 - val_loss: 0.6995 - val_accuracy: 0.3607\n",
      "Epoch 48/100\n",
      "8/8 [==============================] - 0s 4ms/step - loss: 0.6922 - accuracy: 0.5500 - val_loss: 0.6999 - val_accuracy: 0.3934\n",
      "Epoch 49/100\n",
      "8/8 [==============================] - 0s 5ms/step - loss: 0.6921 - accuracy: 0.5250 - val_loss: 0.6997 - val_accuracy: 0.3934\n",
      "Epoch 50/100\n",
      "8/8 [==============================] - 0s 5ms/step - loss: 0.6922 - accuracy: 0.4917 - val_loss: 0.6991 - val_accuracy: 0.4262\n",
      "Epoch 51/100\n",
      "8/8 [==============================] - 0s 5ms/step - loss: 0.6923 - accuracy: 0.5250 - val_loss: 0.6985 - val_accuracy: 0.4426\n",
      "Epoch 52/100\n",
      "8/8 [==============================] - 0s 6ms/step - loss: 0.6925 - accuracy: 0.5208 - val_loss: 0.6986 - val_accuracy: 0.4098\n",
      "Epoch 53/100\n",
      "8/8 [==============================] - 0s 7ms/step - loss: 0.6919 - accuracy: 0.5083 - val_loss: 0.6998 - val_accuracy: 0.3934\n",
      "Epoch 54/100\n",
      "8/8 [==============================] - 0s 5ms/step - loss: 0.6921 - accuracy: 0.5250 - val_loss: 0.7006 - val_accuracy: 0.4098\n",
      "Epoch 55/100\n",
      "8/8 [==============================] - 0s 5ms/step - loss: 0.6921 - accuracy: 0.5333 - val_loss: 0.7010 - val_accuracy: 0.4262\n",
      "Epoch 56/100\n",
      "8/8 [==============================] - 0s 4ms/step - loss: 0.6922 - accuracy: 0.5292 - val_loss: 0.7013 - val_accuracy: 0.4262\n",
      "Epoch 57/100\n",
      "8/8 [==============================] - 0s 4ms/step - loss: 0.6926 - accuracy: 0.5125 - val_loss: 0.7007 - val_accuracy: 0.3607\n",
      "Epoch 58/100\n",
      "8/8 [==============================] - 0s 5ms/step - loss: 0.6921 - accuracy: 0.5167 - val_loss: 0.7016 - val_accuracy: 0.4262\n",
      "Epoch 59/100\n"
     ]
    },
    {
     "name": "stdout",
     "output_type": "stream",
     "text": [
      "8/8 [==============================] - 0s 4ms/step - loss: 0.6922 - accuracy: 0.5250 - val_loss: 0.7014 - val_accuracy: 0.4262\n",
      "Epoch 60/100\n",
      "8/8 [==============================] - 0s 5ms/step - loss: 0.6918 - accuracy: 0.5042 - val_loss: 0.7006 - val_accuracy: 0.3770\n",
      "Epoch 61/100\n",
      "8/8 [==============================] - 0s 5ms/step - loss: 0.6926 - accuracy: 0.4958 - val_loss: 0.6998 - val_accuracy: 0.4426\n",
      "Epoch 62/100\n",
      "8/8 [==============================] - 0s 5ms/step - loss: 0.6922 - accuracy: 0.5042 - val_loss: 0.7000 - val_accuracy: 0.4426\n",
      "Epoch 63/100\n",
      "8/8 [==============================] - 0s 5ms/step - loss: 0.6921 - accuracy: 0.5125 - val_loss: 0.7003 - val_accuracy: 0.4262\n",
      "Epoch 64/100\n",
      "8/8 [==============================] - 0s 7ms/step - loss: 0.6919 - accuracy: 0.5000 - val_loss: 0.7009 - val_accuracy: 0.3934\n",
      "Epoch 65/100\n",
      "8/8 [==============================] - 0s 5ms/step - loss: 0.6927 - accuracy: 0.5000 - val_loss: 0.7007 - val_accuracy: 0.4262\n",
      "Epoch 66/100\n",
      "8/8 [==============================] - 0s 5ms/step - loss: 0.6925 - accuracy: 0.5125 - val_loss: 0.7024 - val_accuracy: 0.4098\n",
      "Epoch 67/100\n",
      "8/8 [==============================] - 0s 5ms/step - loss: 0.6921 - accuracy: 0.5417 - val_loss: 0.7019 - val_accuracy: 0.3607\n",
      "Epoch 68/100\n",
      "8/8 [==============================] - 0s 5ms/step - loss: 0.6922 - accuracy: 0.5083 - val_loss: 0.7014 - val_accuracy: 0.3934\n",
      "Epoch 69/100\n",
      "8/8 [==============================] - 0s 5ms/step - loss: 0.6929 - accuracy: 0.4958 - val_loss: 0.7026 - val_accuracy: 0.4262\n",
      "Epoch 70/100\n",
      "8/8 [==============================] - 0s 5ms/step - loss: 0.6919 - accuracy: 0.5375 - val_loss: 0.7015 - val_accuracy: 0.3770\n",
      "Epoch 71/100\n",
      "8/8 [==============================] - 0s 5ms/step - loss: 0.6923 - accuracy: 0.5000 - val_loss: 0.7010 - val_accuracy: 0.4262\n",
      "Epoch 72/100\n",
      "8/8 [==============================] - 0s 5ms/step - loss: 0.6927 - accuracy: 0.4875 - val_loss: 0.7020 - val_accuracy: 0.3607\n",
      "Epoch 73/100\n",
      "8/8 [==============================] - 0s 5ms/step - loss: 0.6937 - accuracy: 0.5167 - val_loss: 0.7031 - val_accuracy: 0.4262\n",
      "Epoch 74/100\n",
      "8/8 [==============================] - 0s 5ms/step - loss: 0.6922 - accuracy: 0.5167 - val_loss: 0.7028 - val_accuracy: 0.4262\n",
      "Epoch 75/100\n",
      "8/8 [==============================] - 0s 8ms/step - loss: 0.6920 - accuracy: 0.5292 - val_loss: 0.7026 - val_accuracy: 0.4098\n",
      "Epoch 76/100\n",
      "8/8 [==============================] - 0s 6ms/step - loss: 0.6919 - accuracy: 0.5292 - val_loss: 0.7027 - val_accuracy: 0.3770\n",
      "Epoch 77/100\n",
      "8/8 [==============================] - 0s 6ms/step - loss: 0.6920 - accuracy: 0.5333 - val_loss: 0.7024 - val_accuracy: 0.3607\n",
      "Epoch 78/100\n",
      "8/8 [==============================] - 0s 5ms/step - loss: 0.6920 - accuracy: 0.5292 - val_loss: 0.7026 - val_accuracy: 0.3934\n",
      "Epoch 79/100\n",
      "8/8 [==============================] - 0s 5ms/step - loss: 0.6921 - accuracy: 0.5167 - val_loss: 0.7024 - val_accuracy: 0.3934\n",
      "Epoch 80/100\n",
      "8/8 [==============================] - 0s 5ms/step - loss: 0.6918 - accuracy: 0.4958 - val_loss: 0.7019 - val_accuracy: 0.4262\n",
      "Epoch 81/100\n",
      "8/8 [==============================] - 0s 5ms/step - loss: 0.6919 - accuracy: 0.4958 - val_loss: 0.7019 - val_accuracy: 0.4262\n",
      "Epoch 82/100\n",
      "8/8 [==============================] - 0s 5ms/step - loss: 0.6919 - accuracy: 0.4958 - val_loss: 0.7021 - val_accuracy: 0.4098\n",
      "Epoch 83/100\n",
      "8/8 [==============================] - 0s 5ms/step - loss: 0.6919 - accuracy: 0.5042 - val_loss: 0.7020 - val_accuracy: 0.3934\n",
      "Epoch 84/100\n",
      "8/8 [==============================] - 0s 5ms/step - loss: 0.6919 - accuracy: 0.5083 - val_loss: 0.7021 - val_accuracy: 0.3770\n",
      "Epoch 85/100\n",
      "8/8 [==============================] - 0s 6ms/step - loss: 0.6917 - accuracy: 0.5000 - val_loss: 0.7024 - val_accuracy: 0.3934\n",
      "Epoch 86/100\n",
      "8/8 [==============================] - 0s 6ms/step - loss: 0.6921 - accuracy: 0.5042 - val_loss: 0.7023 - val_accuracy: 0.3770\n",
      "Epoch 87/100\n",
      "8/8 [==============================] - 0s 5ms/step - loss: 0.6922 - accuracy: 0.5125 - val_loss: 0.7034 - val_accuracy: 0.4262\n",
      "Epoch 88/100\n",
      "8/8 [==============================] - 0s 6ms/step - loss: 0.6921 - accuracy: 0.5458 - val_loss: 0.7033 - val_accuracy: 0.3934\n",
      "Epoch 89/100\n",
      "8/8 [==============================] - 0s 5ms/step - loss: 0.6919 - accuracy: 0.5375 - val_loss: 0.7023 - val_accuracy: 0.3934\n",
      "Epoch 90/100\n",
      "8/8 [==============================] - 0s 5ms/step - loss: 0.6919 - accuracy: 0.5125 - val_loss: 0.7024 - val_accuracy: 0.3934\n",
      "Epoch 91/100\n",
      "8/8 [==============================] - 0s 5ms/step - loss: 0.6919 - accuracy: 0.5083 - val_loss: 0.7019 - val_accuracy: 0.4262\n",
      "Epoch 92/100\n",
      "8/8 [==============================] - 0s 6ms/step - loss: 0.6918 - accuracy: 0.5083 - val_loss: 0.7022 - val_accuracy: 0.3934\n",
      "Epoch 93/100\n",
      "8/8 [==============================] - 0s 5ms/step - loss: 0.6917 - accuracy: 0.5208 - val_loss: 0.7026 - val_accuracy: 0.3770\n",
      "Epoch 94/100\n",
      "8/8 [==============================] - 0s 5ms/step - loss: 0.6919 - accuracy: 0.5375 - val_loss: 0.7034 - val_accuracy: 0.3934\n",
      "Epoch 95/100\n",
      "8/8 [==============================] - 0s 5ms/step - loss: 0.6926 - accuracy: 0.5000 - val_loss: 0.7025 - val_accuracy: 0.3934\n",
      "Epoch 96/100\n",
      "8/8 [==============================] - 0s 5ms/step - loss: 0.6919 - accuracy: 0.5083 - val_loss: 0.7033 - val_accuracy: 0.3770\n",
      "Epoch 97/100\n",
      "8/8 [==============================] - 0s 5ms/step - loss: 0.6932 - accuracy: 0.5042 - val_loss: 0.7042 - val_accuracy: 0.4098\n",
      "Epoch 98/100\n",
      "8/8 [==============================] - 0s 5ms/step - loss: 0.6919 - accuracy: 0.5042 - val_loss: 0.7025 - val_accuracy: 0.3934\n",
      "Epoch 99/100\n",
      "8/8 [==============================] - 0s 5ms/step - loss: 0.6919 - accuracy: 0.5000 - val_loss: 0.7022 - val_accuracy: 0.4262\n",
      "Epoch 100/100\n",
      "8/8 [==============================] - 0s 5ms/step - loss: 0.6920 - accuracy: 0.4958 - val_loss: 0.7023 - val_accuracy: 0.4262\n"
     ]
    }
   ],
   "source": [
    "history = model.fit(X,y,epochs=100,validation_split=0.2)"
   ]
  },
  {
   "cell_type": "markdown",
   "metadata": {},
   "source": [
    "# weights after training"
   ]
  },
  {
   "cell_type": "code",
   "execution_count": 15,
   "metadata": {
    "colab": {
     "base_uri": "https://localhost:8080/"
    },
    "executionInfo": {
     "elapsed": 9,
     "status": "ok",
     "timestamp": 1656074982709,
     "user": {
      "displayName": "CampusX",
      "userId": "17274569631252575216"
     },
     "user_tz": -330
    },
    "id": "8K2E1Z5Oupj_",
    "outputId": "b2f6dae5-ea9a-4cc9-8668-1d54a7b78d9d"
   },
   "outputs": [
    {
     "data": {
      "text/plain": [
       "[array([[-2.1616    ,  0.39448145,  0.12237459, -0.28533217,  0.6717617 ,\n",
       "          0.31962237,  0.7215943 , -0.31680673,  1.2847347 ,  0.15099531],\n",
       "        [-0.088533  , -0.3928858 , -0.9138044 , -1.1436721 , -0.6962499 ,\n",
       "         -1.0040327 , -0.2951154 , -0.18879181,  0.06692953,  1.3781183 ]],\n",
       "       dtype=float32),\n",
       " array([-0.05241564, -0.0088755 ,  0.03338685,  0.05800696,  0.02864056,\n",
       "         0.02373787, -0.02284238,  0.02674931,  0.03666473, -0.01492465],\n",
       "       dtype=float32),\n",
       " array([[ 0.00154792, -0.34311545, -0.03495954, -0.13927956,  0.41296273,\n",
       "         -0.00834834,  0.14746739, -0.39131498, -0.29468444,  0.14118564],\n",
       "        [-0.25168696, -0.24670084,  0.40674368, -0.01034031,  0.02067468,\n",
       "         -0.23251382, -0.43741766,  0.04495288,  0.6146823 ,  0.07503562],\n",
       "        [ 0.13611841,  0.0269347 , -0.3260898 , -0.22345056, -0.2340535 ,\n",
       "         -0.07558345,  0.20301075, -0.25761518, -0.42970523,  0.34341145],\n",
       "        [-0.04482301,  0.30953076,  0.35904413, -0.03976491, -0.12377886,\n",
       "          0.34943086, -0.14346744,  0.6548265 ,  0.02423791,  0.06444794],\n",
       "        [-0.11680266,  0.13263099, -0.04886708, -0.34139228, -0.25279567,\n",
       "          0.13664226,  0.01439133,  0.35924897, -0.54904294, -0.07899968],\n",
       "        [ 0.2939746 ,  0.20390187, -0.03645597, -0.42717218, -0.23603615,\n",
       "          0.2587416 ,  0.30016133, -0.1625347 , -0.02327453,  0.00445211],\n",
       "        [-0.00467861,  0.3002161 , -0.03608945,  0.2569648 ,  0.1883873 ,\n",
       "         -0.5839995 , -0.3296083 ,  0.12120563, -0.52268434, -0.39192694],\n",
       "        [ 0.07073086, -0.45632207,  0.32437682,  0.10354763,  0.02447088,\n",
       "          0.11642445,  0.1673455 ,  0.38672945, -0.11448238,  0.14658435],\n",
       "        [ 0.06702105,  0.13369122, -0.451403  , -0.24398558,  0.00151377,\n",
       "          0.05676583,  0.27040896, -0.18912624, -0.4716597 ,  0.26471344],\n",
       "        [ 0.22557679, -0.07745324, -0.05581066,  0.08740706, -0.6909472 ,\n",
       "         -0.31977808,  0.12985769, -0.4829686 , -0.20931761,  0.03167772]],\n",
       "       dtype=float32),\n",
       " array([-0.02229865, -0.01594183, -0.01574499, -0.02236589, -0.01477768,\n",
       "         0.0238181 ,  0.00345173,  0.01843298,  0.00727124,  0.03500346],\n",
       "       dtype=float32),\n",
       " array([[ 0.6531368 ,  0.4939363 ,  0.434231  , -0.4302044 , -0.087116  ,\n",
       "         -0.2317794 , -0.11601723, -0.02557615,  0.20758778,  0.2997699 ],\n",
       "        [-0.3219471 ,  0.50876904,  0.1448988 , -0.01670847,  0.23019454,\n",
       "         -0.02754748,  0.8292171 , -0.07064509,  0.44673896,  0.26242474],\n",
       "        [-0.18020514,  0.36906895, -0.02111584, -0.76836973,  0.00095273,\n",
       "          0.02216205,  0.12178987, -0.01160419,  0.30762652, -0.15366301],\n",
       "        [-0.05464121,  0.05854   ,  0.03243007,  0.29821536, -0.17819108,\n",
       "         -0.5363617 ,  0.18270944, -0.3138509 , -0.2441248 , -0.06739332],\n",
       "        [-0.26886806,  0.7204449 , -0.0129818 , -0.58588266, -0.5510455 ,\n",
       "         -0.13440542, -0.37205017, -0.13125639,  0.3498122 , -0.07682567],\n",
       "        [ 0.209801  ,  0.2400661 , -0.14947298, -0.22601669,  0.33748826,\n",
       "          0.15437697,  0.28490874, -0.23667777, -0.0674502 ,  0.24239722],\n",
       "        [ 0.26803434,  0.19984601, -0.08801643, -0.26081938, -0.379669  ,\n",
       "         -0.06517611, -0.14928582, -0.4427026 , -0.434552  , -0.15363093],\n",
       "        [ 0.21972351,  0.0193007 ,  0.5044212 ,  0.44808838,  0.14197673,\n",
       "          0.1383574 ,  0.29883885, -0.21054336, -0.1530994 , -0.04274499],\n",
       "        [ 0.63865495,  0.3287428 ,  0.21048577,  0.54261184, -0.18181585,\n",
       "         -0.10448952, -0.24088892,  0.14718394, -0.12982321, -0.3146633 ],\n",
       "        [-0.33445373, -0.38442874, -0.04741117,  0.16578886, -0.21843366,\n",
       "          0.30644062, -0.27450022,  0.11711881, -0.2350629 ,  0.40017313]],\n",
       "       dtype=float32),\n",
       " array([ 0.0019673 , -0.00748956, -0.00312331,  0.00760401, -0.00481456,\n",
       "         0.00625575,  0.00250699, -0.00451223,  0.0532672 , -0.00418094],\n",
       "       dtype=float32),\n",
       " array([[ 3.28656673e-01,  2.44247824e-01, -4.53978151e-01,\n",
       "          2.71533340e-01, -1.40014634e-01, -7.23123789e-01,\n",
       "          6.64238095e-01, -2.87973076e-01,  4.62345481e-02,\n",
       "         -3.85210454e-01],\n",
       "        [ 1.86378539e-01, -1.64952084e-01, -2.78708544e-02,\n",
       "         -3.02287787e-01, -3.47830266e-01,  2.09457591e-01,\n",
       "          1.19274437e-01, -2.95412481e-01,  1.10547133e-01,\n",
       "          8.60529691e-02],\n",
       "        [-2.66936779e-01,  1.07798241e-01, -4.55873430e-01,\n",
       "         -7.75708318e-01,  2.49574766e-01,  7.12627023e-02,\n",
       "         -1.75739110e-01,  3.23097587e-01, -4.52247113e-01,\n",
       "         -7.14064692e-04],\n",
       "        [ 1.71659030e-02, -4.31095511e-01,  2.04622313e-01,\n",
       "          5.46328798e-02,  6.06945455e-02,  3.31885904e-01,\n",
       "          3.45159084e-01, -3.84818725e-02,  6.78832084e-02,\n",
       "         -3.19935679e-01],\n",
       "        [-3.30556691e-01, -4.85648960e-02,  1.93909809e-01,\n",
       "          4.86489991e-03,  1.82228535e-01,  5.60671747e-01,\n",
       "         -5.07727899e-02,  2.29328573e-01,  2.09567338e-01,\n",
       "         -1.03238784e-01],\n",
       "        [-2.16201246e-02,  1.30009562e-01,  9.49098244e-02,\n",
       "         -6.23642802e-01,  1.48538038e-01,  4.20021951e-01,\n",
       "         -2.11923480e-01, -2.00640380e-01, -4.31264460e-01,\n",
       "         -4.69274968e-01],\n",
       "        [-5.45976996e-01,  3.79122198e-02, -1.54422075e-01,\n",
       "         -2.90914357e-01,  5.78504093e-02, -4.39350575e-01,\n",
       "         -3.58324528e-01, -1.23688966e-01,  1.99095353e-01,\n",
       "         -1.34228066e-01],\n",
       "        [-3.76110405e-01, -1.88850001e-01,  2.91643649e-01,\n",
       "         -2.96287566e-01, -9.94000256e-01, -3.35596949e-01,\n",
       "          4.28177327e-01, -8.08906019e-01,  4.20337647e-01,\n",
       "          2.99118876e-01],\n",
       "        [ 9.52874482e-01, -8.19650888e-02,  2.06132293e-01,\n",
       "         -1.06278695e-01,  1.33541256e-01, -5.07174194e-01,\n",
       "          1.05789276e-02,  2.27050915e-01, -3.95790413e-02,\n",
       "          8.51719175e-03],\n",
       "        [-4.12280820e-02,  6.32401481e-02, -5.05670667e-01,\n",
       "         -1.84709162e-01,  3.34629089e-01,  2.87844032e-01,\n",
       "          1.10795878e-01,  2.57454664e-01, -1.36904791e-01,\n",
       "         -1.03261098e-01]], dtype=float32),\n",
       " array([ 0.00594345,  0.02902623, -0.00215873,  0.00538009,  0.00139168,\n",
       "        -0.0012027 , -0.00414615, -0.00121304, -0.00189784, -0.00073762],\n",
       "       dtype=float32),\n",
       " array([[ 0.0535624 ],\n",
       "        [ 0.01708728],\n",
       "        [-0.09415083],\n",
       "        [ 0.16618669],\n",
       "        [ 0.16658215],\n",
       "        [-0.1417626 ],\n",
       "        [-0.28891033],\n",
       "        [-0.49683028],\n",
       "        [-0.5295142 ],\n",
       "        [-1.1880752 ]], dtype=float32),\n",
       " array([0.00033924], dtype=float32)]"
      ]
     },
     "execution_count": 15,
     "metadata": {},
     "output_type": "execute_result"
    }
   ],
   "source": [
    "model.get_weights()"
   ]
  },
  {
   "cell_type": "markdown",
   "metadata": {},
   "source": [
    "# clearly the weights are changing it means the training happens."
   ]
  },
  {
   "cell_type": "code",
   "execution_count": 16,
   "metadata": {
    "colab": {
     "base_uri": "https://localhost:8080/",
     "height": 338
    },
    "executionInfo": {
     "elapsed": 4297,
     "status": "ok",
     "timestamp": 1656079608718,
     "user": {
      "displayName": "CampusX",
      "userId": "17274569631252575216"
     },
     "user_tz": -330
    },
    "id": "h2jKnSGeuuLY",
    "outputId": "a959a920-8398-4e16-b370-fabf274eff61"
   },
   "outputs": [
    {
     "name": "stdout",
     "output_type": "stream",
     "text": [
      "3888/3888 [==============================] - 3s 825us/step\n"
     ]
    },
    {
     "data": {
      "text/plain": [
       "<AxesSubplot:>"
      ]
     },
     "execution_count": 16,
     "metadata": {},
     "output_type": "execute_result"
    },
    {
     "data": {
      "image/png": "[encoded data removed]",
      "text/plain": [
       "<Figure size 432x288 with 1 Axes>"
      ]
     },
     "metadata": {
      "needs_background": "light"
     },
     "output_type": "display_data"
    }
   ],
   "source": [
    "from mlxtend.plotting import plot_decision_regions\n",
    "plot_decision_regions(X,y.astype('int'), clf=model, legend=2)"
   ]
  },
  {
   "cell_type": "code",
   "execution_count": 28,
   "metadata": {
    "colab": {
     "base_uri": "https://localhost:8080/"
    },
    "executionInfo": {
     "elapsed": 8,
     "status": "ok",
     "timestamp": 1656076625707,
     "user": {
      "displayName": "CampusX",
      "userId": "17274569631252575216"
     },
     "user_tz": -330
    },
    "id": "6cQtO9mpuxLI",
    "outputId": "141c2890-cc9b-44ee-bd6e-8a3b0c84004a"
   },
   "outputs": [
    {
     "data": {
      "text/plain": [
       "-0.026458826007073322"
      ]
     },
     "execution_count": 28,
     "metadata": {},
     "output_type": "execute_result"
    }
   ],
   "source": [
    "(np.random.randn(10,10)*0.01).min()"
   ]
  },
  {
   "cell_type": "code",
   "execution_count": 29,
   "metadata": {
    "colab": {
     "base_uri": "https://localhost:8080/"
    },
    "executionInfo": {
     "elapsed": 9,
     "status": "ok",
     "timestamp": 1656076639080,
     "user": {
      "displayName": "CampusX",
      "userId": "17274569631252575216"
     },
     "user_tz": -330
    },
    "id": "diiaUiL92T7H",
    "outputId": "82f87541-8dcc-4cb1-a3ff-cf31048421f3"
   },
   "outputs": [
    {
     "data": {
      "text/plain": [
       "0.017813267349627612"
      ]
     },
     "execution_count": 29,
     "metadata": {},
     "output_type": "execute_result"
    }
   ],
   "source": [
    "(np.random.randn(10,10)*0.01).max()"
   ]
  },
  {
   "cell_type": "code",
   "execution_count": null,
   "metadata": {
    "id": "b2DJRNfI3BOE"
   },
   "outputs": [],
   "source": []
  }
 ],
 "metadata": {
  "colab": {
   "authorship_tag": "ABX9TyP9NgMdCsrrIEVhBVTXGQg2",
   "name": "Untitled26.ipynb",
   "provenance": []
  },
  "kernelspec": {
   "display_name": "Python 3 (ipykernel)",
   "language": "python",
   "name": "python3"
  },
  "language_info": {
   "codemirror_mode": {
    "name": "ipython",
    "version": 3
   },
   "file_extension": ".py",
   "mimetype": "text/x-python",
   "name": "python",
   "nbconvert_exporter": "python",
   "pygments_lexer": "ipython3",
   "version": "3.9.7"
  }
 },
 "nbformat": 4,
 "nbformat_minor": 1
}
