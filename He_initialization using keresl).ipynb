{
 "cells": [
  {
   "cell_type": "code",
   "execution_count": 1,
   "metadata": {
    "executionInfo": {
     "elapsed": 535,
     "status": "ok",
     "timestamp": 1656074163405,
     "user": {
      "displayName": "CampusX",
      "userId": "17274569631252575216"
     },
     "user_tz": -330
    },
    "id": "cKVzInXrteyO"
   },
   "outputs": [],
   "source": [
    "import numpy as np\n",
    "import pandas as pd\n",
    "import matplotlib.pyplot as plt"
   ]
  },
  {
   "cell_type": "code",
   "execution_count": 2,
   "metadata": {
    "executionInfo": {
     "elapsed": 549,
     "status": "ok",
     "timestamp": 1656074200515,
     "user": {
      "displayName": "CampusX",
      "userId": "17274569631252575216"
     },
     "user_tz": -330
    },
    "id": "l-CtLegnti3_"
   },
   "outputs": [],
   "source": [
    "df = pd.read_csv('ushape.csv')"
   ]
  },
  {
   "cell_type": "code",
   "execution_count": 3,
   "metadata": {
    "colab": {
     "base_uri": "https://localhost:8080/",
     "height": 206
    },
    "executionInfo": {
     "elapsed": 17,
     "status": "ok",
     "timestamp": 1656074201668,
     "user": {
      "displayName": "CampusX",
      "userId": "17274569631252575216"
     },
     "user_tz": -330
    },
    "id": "T9P8j9Ubtt9t",
    "outputId": "5e2b98b4-108b-4466-b18a-1dd114692c32"
   },
   "outputs": [
    {
     "data": {
      "text/html": [
       "<div>\n",
       "<style scoped>\n",
       "    .dataframe tbody tr th:only-of-type {\n",
       "        vertical-align: middle;\n",
       "    }\n",
       "\n",
       "    .dataframe tbody tr th {\n",
       "        vertical-align: top;\n",
       "    }\n",
       "\n",
       "    .dataframe thead th {\n",
       "        text-align: right;\n",
       "    }\n",
       "</style>\n",
       "<table border=\"1\" class=\"dataframe\">\n",
       "  <thead>\n",
       "    <tr style=\"text-align: right;\">\n",
       "      <th></th>\n",
       "      <th>X</th>\n",
       "      <th>Y</th>\n",
       "      <th>class</th>\n",
       "    </tr>\n",
       "  </thead>\n",
       "  <tbody>\n",
       "    <tr>\n",
       "      <th>0</th>\n",
       "      <td>0.455</td>\n",
       "      <td>0.365</td>\n",
       "      <td>1</td>\n",
       "    </tr>\n",
       "    <tr>\n",
       "      <th>1</th>\n",
       "      <td>0.350</td>\n",
       "      <td>0.265</td>\n",
       "      <td>0</td>\n",
       "    </tr>\n",
       "    <tr>\n",
       "      <th>2</th>\n",
       "      <td>0.530</td>\n",
       "      <td>0.420</td>\n",
       "      <td>0</td>\n",
       "    </tr>\n",
       "    <tr>\n",
       "      <th>3</th>\n",
       "      <td>0.440</td>\n",
       "      <td>0.365</td>\n",
       "      <td>1</td>\n",
       "    </tr>\n",
       "    <tr>\n",
       "      <th>4</th>\n",
       "      <td>0.330</td>\n",
       "      <td>0.255</td>\n",
       "      <td>1</td>\n",
       "    </tr>\n",
       "  </tbody>\n",
       "</table>\n",
       "</div>"
      ],
      "text/plain": [
       "       X      Y  class\n",
       "0  0.455  0.365      1\n",
       "1  0.350  0.265      0\n",
       "2  0.530  0.420      0\n",
       "3  0.440  0.365      1\n",
       "4  0.330  0.255      1"
      ]
     },
     "execution_count": 3,
     "metadata": {},
     "output_type": "execute_result"
    }
   ],
   "source": [
    "df.head()"
   ]
  },
  {
   "cell_type": "code",
   "execution_count": 4,
   "metadata": {
    "colab": {
     "base_uri": "https://localhost:8080/",
     "height": 283
    },
    "executionInfo": {
     "elapsed": 558,
     "status": "ok",
     "timestamp": 1656074208992,
     "user": {
      "displayName": "CampusX",
      "userId": "17274569631252575216"
     },
     "user_tz": -330
    },
    "id": "ZuYqGD_mtuQG",
    "outputId": "97e607c8-ada0-45c7-d9cc-17fd3bd502a5"
   },
   "outputs": [
    {
     "data": {
      "text/plain": [
       "<matplotlib.collections.PathCollection at 0x7f8c4a74ea60>"
      ]
     },
     "execution_count": 4,
     "metadata": {},
     "output_type": "execute_result"
    },
    {
     "data": {
      "image/png": "[encoded data removed]",
      "text/plain": [
       "<Figure size 432x288 with 1 Axes>"
      ]
     },
     "metadata": {
      "needs_background": "light"
     },
     "output_type": "display_data"
    }
   ],
   "source": [
    "plt.scatter(df['X'],df['Y'],c=df['class'])"
   ]
  },
  {
   "cell_type": "code",
   "execution_count": 5,
   "metadata": {
    "executionInfo": {
     "elapsed": 486,
     "status": "ok",
     "timestamp": 1656074216198,
     "user": {
      "displayName": "CampusX",
      "userId": "17274569631252575216"
     },
     "user_tz": -330
    },
    "id": "nwXuHnqhtwEJ"
   },
   "outputs": [],
   "source": [
    "X = df.iloc[:,0:2].values\n",
    "y = df.iloc[:,-1].values"
   ]
  },
  {
   "cell_type": "code",
   "execution_count": 6,
   "metadata": {
    "executionInfo": {
     "elapsed": 4640,
     "status": "ok",
     "timestamp": 1656074226724,
     "user": {
      "displayName": "CampusX",
      "userId": "17274569631252575216"
     },
     "user_tz": -330
    },
    "id": "ylDVIM8Ltx0H"
   },
   "outputs": [
    {
     "name": "stderr",
     "output_type": "stream",
     "text": [
      "2023-04-05 14:03:03.092172: I tensorflow/core/platform/cpu_feature_guard.cc:193] This TensorFlow binary is optimized with oneAPI Deep Neural Network Library (oneDNN) to use the following CPU instructions in performance-critical operations:  AVX2 FMA\n",
      "To enable them in other operations, rebuild TensorFlow with the appropriate compiler flags.\n"
     ]
    }
   ],
   "source": [
    "import tensorflow\n",
    "from tensorflow import keras\n",
    "from keras import Sequential\n",
    "from keras.layers import Dense"
   ]
  },
  {
   "cell_type": "markdown",
   "metadata": {},
   "source": [
    "# he_normal intialization + relU"
   ]
  },
  {
   "cell_type": "code",
   "execution_count": 16,
   "metadata": {
    "colab": {
     "base_uri": "https://localhost:8080/"
    },
    "executionInfo": {
     "elapsed": 550,
     "status": "ok",
     "timestamp": 1656079560422,
     "user": {
      "displayName": "CampusX",
      "userId": "17274569631252575216"
     },
     "user_tz": -330
    },
    "id": "id8rhK5OtzVX",
    "outputId": "d69e652e-27db-472d-9ca4-90a863607606"
   },
   "outputs": [
    {
     "name": "stdout",
     "output_type": "stream",
     "text": [
      "Model: \"sequential_2\"\n",
      "_________________________________________________________________\n",
      " Layer (type)                Output Shape              Param #   \n",
      "=================================================================\n",
      " dense_10 (Dense)            (None, 10)                30        \n",
      "                                                                 \n",
      " dense_11 (Dense)            (None, 10)                110       \n",
      "                                                                 \n",
      " dense_12 (Dense)            (None, 10)                110       \n",
      "                                                                 \n",
      " dense_13 (Dense)            (None, 10)                110       \n",
      "                                                                 \n",
      " dense_14 (Dense)            (None, 1)                 11        \n",
      "                                                                 \n",
      "=================================================================\n",
      "Total params: 371\n",
      "Trainable params: 371\n",
      "Non-trainable params: 0\n",
      "_________________________________________________________________\n"
     ]
    }
   ],
   "source": [
    "model = Sequential()\n",
    "\n",
    "model.add(Dense(10,activation='relu',input_dim=2,kernel_initializer='he_normal'))\n",
    "model.add(Dense(10,activation='relu',kernel_initializer='he_normal'))\n",
    "model.add(Dense(10,activation='relu',kernel_initializer='he_normal'))\n",
    "model.add(Dense(10,activation='relu',kernel_initializer='he_normal'))\n",
    "model.add(Dense(1,activation='sigmoid'))\n",
    "\n",
    "model.summary()"
   ]
  },
  {
   "cell_type": "markdown",
   "metadata": {},
   "source": [
    "# wieghts before Training"
   ]
  },
  {
   "cell_type": "code",
   "execution_count": 17,
   "metadata": {
    "colab": {
     "base_uri": "https://localhost:8080/"
    },
    "executionInfo": {
     "elapsed": 9,
     "status": "ok",
     "timestamp": 1656074971528,
     "user": {
      "displayName": "CampusX",
      "userId": "17274569631252575216"
     },
     "user_tz": -330
    },
    "id": "1guey_KUujTP",
    "outputId": "fb013401-4046-46da-b07b-f080061fdc8a"
   },
   "outputs": [
    {
     "data": {
      "text/plain": [
       "[array([[-0.60171837, -0.5366805 ,  1.6678097 ,  0.89941114, -0.06958797,\n",
       "         -1.0446366 , -0.8153107 ,  1.697468  ,  0.4831711 , -0.8926231 ],\n",
       "        [-1.175506  , -1.2842038 , -0.05830454, -0.38845345, -2.0989    ,\n",
       "          0.4015476 , -1.8913898 ,  1.1742936 ,  0.53880006,  0.28827387]],\n",
       "       dtype=float32),\n",
       " array([0., 0., 0., 0., 0., 0., 0., 0., 0., 0.], dtype=float32),\n",
       " array([[ 0.39970642, -0.17054918, -0.26956868,  0.5235799 ,  0.11240346,\n",
       "          0.5490202 , -0.60385257,  0.25110322,  0.46623012, -0.38400936],\n",
       "        [ 0.2252051 , -0.27153888,  0.5200867 ,  0.21469118, -0.34977898,\n",
       "          0.73369306,  0.09410778, -0.5654367 ,  0.22538918,  0.3956151 ],\n",
       "        [-0.5827361 , -0.10105383,  0.24520212,  0.14204505,  0.20799942,\n",
       "         -0.8518751 , -0.537534  , -0.93456286, -0.63468987,  0.6195696 ],\n",
       "        [-0.49499097,  0.3946516 ,  0.1225318 ,  0.4686574 ,  0.21996433,\n",
       "         -0.864906  , -0.12505925, -0.23556702,  0.07842599,  0.68414414],\n",
       "        [-0.14403929,  0.54121614, -0.44431776, -0.21156958, -0.41673487,\n",
       "          0.04863566,  0.10500938,  0.4596352 ,  0.6483338 ,  0.3332782 ],\n",
       "        [-0.17977057, -0.5802696 , -0.18543075,  0.5782393 , -0.23502073,\n",
       "         -0.62111276,  0.2939406 , -0.03528513,  0.01606811,  0.04888954],\n",
       "        [-0.10902993,  0.24134684,  0.2770078 ,  0.51467514, -0.26197278,\n",
       "         -0.11661281,  0.33347926, -0.18735655, -0.40556258, -0.1696239 ],\n",
       "        [-0.2767909 ,  0.04256378,  0.73143625,  0.52179456,  0.48255756,\n",
       "          0.6366564 , -0.4312239 ,  0.30354676, -0.13907528,  0.45551762],\n",
       "        [ 0.1480479 , -0.04774823,  0.144591  , -0.94165057, -0.31719893,\n",
       "         -0.6990832 , -0.45339668, -0.12091832, -0.4319489 , -0.33344543],\n",
       "        [ 0.70744634,  0.30841222,  0.13241765,  0.23423436,  0.8809664 ,\n",
       "          0.1368512 , -0.3235691 ,  0.24156086, -0.34301433, -0.26844212]],\n",
       "       dtype=float32),\n",
       " array([0., 0., 0., 0., 0., 0., 0., 0., 0., 0.], dtype=float32),\n",
       " array([[ 0.6445322 , -0.9832341 , -0.39938724, -0.7760929 , -0.40184793,\n",
       "         -0.01220068,  0.1124061 , -0.56237304, -0.30294582,  0.20938122],\n",
       "        [-0.21493371,  0.33358297, -0.84552616, -0.40038553, -0.04791908,\n",
       "          0.11168157,  0.39926183,  0.11885905,  0.2739901 ,  0.26961592],\n",
       "        [-0.2624688 , -0.2654933 , -0.08094075, -0.02282995,  0.9209819 ,\n",
       "         -0.41982272, -0.21818702,  0.5706269 ,  0.7061155 ,  0.08512814],\n",
       "        [ 0.51238686,  0.21093349, -0.1939652 , -0.41204116,  0.7605042 ,\n",
       "          0.37939414, -0.0893155 , -0.83304024, -0.00795743,  0.13258311],\n",
       "        [-0.5818397 ,  0.60815513, -0.10624207,  0.35091713,  0.16182745,\n",
       "         -0.4354527 ,  0.40664133, -0.01244265,  0.23099136,  0.32223728],\n",
       "        [-0.27534544,  0.06503577, -0.06852875,  0.51315886, -0.00642191,\n",
       "          0.8203543 ,  0.1886475 ,  0.39373824,  0.36027914,  0.2813493 ],\n",
       "        [-0.11926691, -0.12986313, -0.27598053,  0.15293601, -0.06746745,\n",
       "          0.03345753,  0.47603998, -0.07648465, -0.77026325,  0.65036166],\n",
       "        [ 0.20693308,  0.12364612, -0.2037927 , -0.45404676,  0.18679908,\n",
       "         -0.11747988,  0.47576934, -0.80037814, -0.29386294,  0.8987864 ],\n",
       "        [-0.97001237,  0.84143037,  0.1745239 , -0.6737545 ,  0.16697136,\n",
       "         -0.9871133 , -0.4716032 , -0.06105786,  0.29967025,  0.02420266],\n",
       "        [ 0.4771024 ,  0.3751305 , -0.26119658,  0.39357227, -0.911497  ,\n",
       "          0.01992689, -0.11672751, -0.23613136,  0.30450186, -0.79332936]],\n",
       "       dtype=float32),\n",
       " array([0., 0., 0., 0., 0., 0., 0., 0., 0., 0.], dtype=float32),\n",
       " array([[ 0.51134366,  0.57261634,  0.14581637,  0.05521728, -0.6234286 ,\n",
       "         -0.27811489,  0.4177911 , -0.35185876,  0.18550718,  0.48871842],\n",
       "        [-0.83893955, -0.6298433 ,  0.48617938,  0.59014255, -0.5791549 ,\n",
       "          0.70927465, -0.34849933,  0.5820169 , -0.72805506,  0.30374017],\n",
       "        [-0.31053442,  0.25232926,  0.35930696,  0.20525262,  0.6631295 ,\n",
       "         -0.7621318 , -0.14505516,  0.35868376,  0.2611942 ,  0.53604394],\n",
       "        [-0.264812  ,  0.6761975 , -0.6929874 , -0.23603918, -0.6640007 ,\n",
       "         -0.32627124, -0.70056045, -0.15448864, -0.52697647, -0.2968877 ],\n",
       "        [ 0.9928056 ,  0.21791528,  0.8165933 , -0.19876146, -0.576212  ,\n",
       "         -0.99243045, -0.19720888,  0.44131958, -0.24332324, -0.02821312],\n",
       "        [-0.87336534,  0.19171447,  0.10269389,  0.2526533 , -0.2907078 ,\n",
       "          0.22092982,  0.5859932 ,  0.21942236, -0.16666111,  0.46801454],\n",
       "        [-0.36950973,  0.30256388,  0.3920515 ,  0.52654433,  0.22807795,\n",
       "         -0.32381284,  0.11090738,  0.54082584,  0.18428253,  0.7471476 ],\n",
       "        [ 0.03976004, -0.14080997, -0.7617847 ,  0.3417213 , -0.5799025 ,\n",
       "          0.1729913 ,  0.13735566,  0.5951499 ,  0.787338  , -0.63564295],\n",
       "        [-0.52718705, -0.27409485, -0.1799585 , -0.505338  , -0.5062857 ,\n",
       "          0.94255584, -0.11382593,  0.67371887,  0.06043275, -0.20738195],\n",
       "        [ 0.32766545, -0.38075507,  0.6377899 ,  0.7411844 ,  0.7120203 ,\n",
       "          0.5677881 , -0.28367195,  0.2459088 ,  0.62299985, -0.41564223]],\n",
       "       dtype=float32),\n",
       " array([0., 0., 0., 0., 0., 0., 0., 0., 0., 0.], dtype=float32),\n",
       " array([[ 0.13551092],\n",
       "        [-0.4771698 ],\n",
       "        [-0.09083301],\n",
       "        [ 0.5739834 ],\n",
       "        [ 0.70807976],\n",
       "        [-0.44558477],\n",
       "        [-0.55972934],\n",
       "        [-0.37099832],\n",
       "        [-0.31029502],\n",
       "        [ 0.5868035 ]], dtype=float32),\n",
       " array([0.], dtype=float32)]"
      ]
     },
     "execution_count": 17,
     "metadata": {},
     "output_type": "execute_result"
    }
   ],
   "source": [
    "model.get_weights()"
   ]
  },
  {
   "cell_type": "code",
   "execution_count": 18,
   "metadata": {
    "executionInfo": {
     "elapsed": 20,
     "status": "ok",
     "timestamp": 1656079585068,
     "user": {
      "displayName": "CampusX",
      "userId": "17274569631252575216"
     },
     "user_tz": -330
    },
    "id": "bjAyhD8mulGG"
   },
   "outputs": [],
   "source": [
    "model.compile(loss='binary_crossentropy',optimizer='adam',metrics=['accuracy'])"
   ]
  },
  {
   "cell_type": "code",
   "execution_count": 19,
   "metadata": {
    "colab": {
     "base_uri": "https://localhost:8080/"
    },
    "executionInfo": {
     "elapsed": 5698,
     "status": "ok",
     "timestamp": 1656079590749,
     "user": {
      "displayName": "CampusX",
      "userId": "17274569631252575216"
     },
     "user_tz": -330
    },
    "id": "H1wa0jCaun8z",
    "outputId": "b9e3d128-6954-4c3a-9624-0b5c59909728"
   },
   "outputs": [
    {
     "name": "stdout",
     "output_type": "stream",
     "text": [
      "Epoch 1/100\n",
      "8/8 [==============================] - 1s 22ms/step - loss: 0.8039 - accuracy: 0.5042 - val_loss: 0.7909 - val_accuracy: 0.5410\n",
      "Epoch 2/100\n",
      "8/8 [==============================] - 0s 5ms/step - loss: 0.7671 - accuracy: 0.5042 - val_loss: 0.7616 - val_accuracy: 0.5410\n",
      "Epoch 3/100\n",
      "8/8 [==============================] - 0s 6ms/step - loss: 0.7414 - accuracy: 0.5042 - val_loss: 0.7406 - val_accuracy: 0.5410\n",
      "Epoch 4/100\n",
      "8/8 [==============================] - 0s 5ms/step - loss: 0.7253 - accuracy: 0.5042 - val_loss: 0.7256 - val_accuracy: 0.5410\n",
      "Epoch 5/100\n",
      "8/8 [==============================] - 0s 6ms/step - loss: 0.7132 - accuracy: 0.5083 - val_loss: 0.7165 - val_accuracy: 0.5410\n",
      "Epoch 6/100\n",
      "8/8 [==============================] - 0s 5ms/step - loss: 0.7062 - accuracy: 0.5083 - val_loss: 0.7106 - val_accuracy: 0.5410\n",
      "Epoch 7/100\n",
      "8/8 [==============================] - 0s 5ms/step - loss: 0.7014 - accuracy: 0.5083 - val_loss: 0.7067 - val_accuracy: 0.5410\n",
      "Epoch 8/100\n",
      "8/8 [==============================] - 0s 5ms/step - loss: 0.6989 - accuracy: 0.5042 - val_loss: 0.7046 - val_accuracy: 0.5574\n",
      "Epoch 9/100\n",
      "8/8 [==============================] - 0s 5ms/step - loss: 0.6968 - accuracy: 0.5042 - val_loss: 0.7034 - val_accuracy: 0.5574\n",
      "Epoch 10/100\n",
      "8/8 [==============================] - 0s 5ms/step - loss: 0.6958 - accuracy: 0.5125 - val_loss: 0.7020 - val_accuracy: 0.5410\n",
      "Epoch 11/100\n",
      "8/8 [==============================] - 0s 5ms/step - loss: 0.6948 - accuracy: 0.5042 - val_loss: 0.7012 - val_accuracy: 0.5410\n",
      "Epoch 12/100\n",
      "8/8 [==============================] - 0s 8ms/step - loss: 0.6941 - accuracy: 0.5125 - val_loss: 0.7006 - val_accuracy: 0.5246\n",
      "Epoch 13/100\n",
      "8/8 [==============================] - 0s 6ms/step - loss: 0.6935 - accuracy: 0.5083 - val_loss: 0.7000 - val_accuracy: 0.4918\n",
      "Epoch 14/100\n",
      "8/8 [==============================] - 0s 6ms/step - loss: 0.6931 - accuracy: 0.5083 - val_loss: 0.6999 - val_accuracy: 0.4918\n",
      "Epoch 15/100\n",
      "8/8 [==============================] - 0s 5ms/step - loss: 0.6928 - accuracy: 0.5083 - val_loss: 0.6997 - val_accuracy: 0.5082\n",
      "Epoch 16/100\n",
      "8/8 [==============================] - 0s 8ms/step - loss: 0.6925 - accuracy: 0.5000 - val_loss: 0.6995 - val_accuracy: 0.4918\n",
      "Epoch 17/100\n",
      "8/8 [==============================] - 0s 6ms/step - loss: 0.6922 - accuracy: 0.5000 - val_loss: 0.6991 - val_accuracy: 0.4590\n",
      "Epoch 18/100\n",
      "8/8 [==============================] - 0s 5ms/step - loss: 0.6923 - accuracy: 0.5125 - val_loss: 0.6991 - val_accuracy: 0.4426\n",
      "Epoch 19/100\n",
      "8/8 [==============================] - 0s 6ms/step - loss: 0.6920 - accuracy: 0.5083 - val_loss: 0.6993 - val_accuracy: 0.4590\n",
      "Epoch 20/100\n",
      "8/8 [==============================] - 0s 6ms/step - loss: 0.6919 - accuracy: 0.5042 - val_loss: 0.6995 - val_accuracy: 0.4590\n",
      "Epoch 21/100\n",
      "8/8 [==============================] - 0s 6ms/step - loss: 0.6918 - accuracy: 0.5125 - val_loss: 0.6997 - val_accuracy: 0.4590\n",
      "Epoch 22/100\n",
      "8/8 [==============================] - 0s 7ms/step - loss: 0.6919 - accuracy: 0.5000 - val_loss: 0.6997 - val_accuracy: 0.4426\n",
      "Epoch 23/100\n",
      "8/8 [==============================] - 0s 10ms/step - loss: 0.6917 - accuracy: 0.5000 - val_loss: 0.6997 - val_accuracy: 0.4426\n",
      "Epoch 24/100\n",
      "8/8 [==============================] - 0s 6ms/step - loss: 0.6916 - accuracy: 0.5042 - val_loss: 0.6996 - val_accuracy: 0.4426\n",
      "Epoch 25/100\n",
      "8/8 [==============================] - 0s 7ms/step - loss: 0.6916 - accuracy: 0.5042 - val_loss: 0.6998 - val_accuracy: 0.4426\n",
      "Epoch 26/100\n",
      "8/8 [==============================] - 0s 8ms/step - loss: 0.6916 - accuracy: 0.4958 - val_loss: 0.6999 - val_accuracy: 0.4426\n",
      "Epoch 27/100\n",
      "8/8 [==============================] - 0s 6ms/step - loss: 0.6915 - accuracy: 0.5000 - val_loss: 0.7000 - val_accuracy: 0.4426\n",
      "Epoch 28/100\n",
      "8/8 [==============================] - 0s 6ms/step - loss: 0.6915 - accuracy: 0.5042 - val_loss: 0.6998 - val_accuracy: 0.4262\n",
      "Epoch 29/100\n",
      "8/8 [==============================] - 0s 6ms/step - loss: 0.6914 - accuracy: 0.5083 - val_loss: 0.6999 - val_accuracy: 0.4262\n",
      "Epoch 30/100\n",
      "8/8 [==============================] - 0s 8ms/step - loss: 0.6913 - accuracy: 0.5042 - val_loss: 0.7000 - val_accuracy: 0.4098\n",
      "Epoch 31/100\n",
      "8/8 [==============================] - 0s 10ms/step - loss: 0.6913 - accuracy: 0.5000 - val_loss: 0.7003 - val_accuracy: 0.4262\n",
      "Epoch 32/100\n",
      "8/8 [==============================] - 0s 7ms/step - loss: 0.6913 - accuracy: 0.5125 - val_loss: 0.7001 - val_accuracy: 0.4262\n",
      "Epoch 33/100\n",
      "8/8 [==============================] - 0s 6ms/step - loss: 0.6915 - accuracy: 0.5083 - val_loss: 0.7000 - val_accuracy: 0.4262\n",
      "Epoch 34/100\n",
      "8/8 [==============================] - 0s 7ms/step - loss: 0.6912 - accuracy: 0.5042 - val_loss: 0.7001 - val_accuracy: 0.4262\n",
      "Epoch 35/100\n",
      "8/8 [==============================] - 0s 6ms/step - loss: 0.6912 - accuracy: 0.5042 - val_loss: 0.7001 - val_accuracy: 0.4262\n",
      "Epoch 36/100\n",
      "8/8 [==============================] - 0s 6ms/step - loss: 0.6911 - accuracy: 0.5000 - val_loss: 0.7001 - val_accuracy: 0.4262\n",
      "Epoch 37/100\n",
      "8/8 [==============================] - 0s 6ms/step - loss: 0.6911 - accuracy: 0.5042 - val_loss: 0.7001 - val_accuracy: 0.4426\n",
      "Epoch 38/100\n",
      "8/8 [==============================] - 0s 5ms/step - loss: 0.6911 - accuracy: 0.5042 - val_loss: 0.6999 - val_accuracy: 0.4426\n",
      "Epoch 39/100\n",
      "8/8 [==============================] - 0s 4ms/step - loss: 0.6910 - accuracy: 0.5042 - val_loss: 0.7002 - val_accuracy: 0.4262\n",
      "Epoch 40/100\n",
      "8/8 [==============================] - 0s 5ms/step - loss: 0.6910 - accuracy: 0.5000 - val_loss: 0.7004 - val_accuracy: 0.4098\n",
      "Epoch 41/100\n",
      "8/8 [==============================] - 0s 5ms/step - loss: 0.6910 - accuracy: 0.5042 - val_loss: 0.7003 - val_accuracy: 0.4098\n",
      "Epoch 42/100\n",
      "8/8 [==============================] - 0s 5ms/step - loss: 0.6910 - accuracy: 0.5125 - val_loss: 0.7003 - val_accuracy: 0.4262\n",
      "Epoch 43/100\n",
      "8/8 [==============================] - 0s 4ms/step - loss: 0.6910 - accuracy: 0.4917 - val_loss: 0.7003 - val_accuracy: 0.4098\n",
      "Epoch 44/100\n",
      "8/8 [==============================] - 0s 5ms/step - loss: 0.6908 - accuracy: 0.5042 - val_loss: 0.7004 - val_accuracy: 0.4098\n",
      "Epoch 45/100\n",
      "8/8 [==============================] - 0s 5ms/step - loss: 0.6907 - accuracy: 0.5083 - val_loss: 0.7003 - val_accuracy: 0.4098\n",
      "Epoch 46/100\n",
      "8/8 [==============================] - 0s 5ms/step - loss: 0.6907 - accuracy: 0.5083 - val_loss: 0.7002 - val_accuracy: 0.4098\n",
      "Epoch 47/100\n",
      "8/8 [==============================] - 0s 5ms/step - loss: 0.6906 - accuracy: 0.5000 - val_loss: 0.7003 - val_accuracy: 0.4098\n",
      "Epoch 48/100\n",
      "8/8 [==============================] - 0s 5ms/step - loss: 0.6909 - accuracy: 0.5000 - val_loss: 0.7006 - val_accuracy: 0.4098\n",
      "Epoch 49/100\n",
      "8/8 [==============================] - 0s 8ms/step - loss: 0.6907 - accuracy: 0.5208 - val_loss: 0.7005 - val_accuracy: 0.4098\n",
      "Epoch 50/100\n",
      "8/8 [==============================] - 0s 5ms/step - loss: 0.6906 - accuracy: 0.5083 - val_loss: 0.7006 - val_accuracy: 0.4098\n",
      "Epoch 51/100\n",
      "8/8 [==============================] - 0s 8ms/step - loss: 0.6905 - accuracy: 0.5125 - val_loss: 0.7007 - val_accuracy: 0.4262\n",
      "Epoch 52/100\n",
      "8/8 [==============================] - 0s 5ms/step - loss: 0.6905 - accuracy: 0.5042 - val_loss: 0.7007 - val_accuracy: 0.4262\n",
      "Epoch 53/100\n",
      "8/8 [==============================] - 0s 6ms/step - loss: 0.6904 - accuracy: 0.5125 - val_loss: 0.7006 - val_accuracy: 0.4262\n",
      "Epoch 54/100\n",
      "8/8 [==============================] - 0s 5ms/step - loss: 0.6903 - accuracy: 0.5083 - val_loss: 0.7007 - val_accuracy: 0.4262\n",
      "Epoch 55/100\n",
      "8/8 [==============================] - 0s 5ms/step - loss: 0.6903 - accuracy: 0.5083 - val_loss: 0.7008 - val_accuracy: 0.4098\n",
      "Epoch 56/100\n",
      "8/8 [==============================] - 0s 5ms/step - loss: 0.6904 - accuracy: 0.5042 - val_loss: 0.7009 - val_accuracy: 0.4262\n",
      "Epoch 57/100\n",
      "8/8 [==============================] - 0s 5ms/step - loss: 0.6903 - accuracy: 0.5083 - val_loss: 0.7009 - val_accuracy: 0.4262\n",
      "Epoch 58/100\n",
      "8/8 [==============================] - 0s 5ms/step - loss: 0.6902 - accuracy: 0.5042 - val_loss: 0.7005 - val_accuracy: 0.4426\n",
      "Epoch 59/100\n"
     ]
    },
    {
     "name": "stdout",
     "output_type": "stream",
     "text": [
      "8/8 [==============================] - 0s 6ms/step - loss: 0.6902 - accuracy: 0.5083 - val_loss: 0.7007 - val_accuracy: 0.4262\n",
      "Epoch 60/100\n",
      "8/8 [==============================] - 0s 6ms/step - loss: 0.6903 - accuracy: 0.5125 - val_loss: 0.7012 - val_accuracy: 0.4262\n",
      "Epoch 61/100\n",
      "8/8 [==============================] - 0s 5ms/step - loss: 0.6900 - accuracy: 0.5083 - val_loss: 0.7012 - val_accuracy: 0.4262\n",
      "Epoch 62/100\n",
      "8/8 [==============================] - 0s 5ms/step - loss: 0.6900 - accuracy: 0.5292 - val_loss: 0.7011 - val_accuracy: 0.4262\n",
      "Epoch 63/100\n",
      "8/8 [==============================] - 0s 8ms/step - loss: 0.6901 - accuracy: 0.5208 - val_loss: 0.7011 - val_accuracy: 0.4262\n",
      "Epoch 64/100\n",
      "8/8 [==============================] - 0s 8ms/step - loss: 0.6899 - accuracy: 0.5125 - val_loss: 0.7008 - val_accuracy: 0.4262\n",
      "Epoch 65/100\n",
      "8/8 [==============================] - 0s 5ms/step - loss: 0.6905 - accuracy: 0.5167 - val_loss: 0.7009 - val_accuracy: 0.4590\n",
      "Epoch 66/100\n",
      "8/8 [==============================] - 0s 5ms/step - loss: 0.6898 - accuracy: 0.5125 - val_loss: 0.7010 - val_accuracy: 0.4590\n",
      "Epoch 67/100\n",
      "8/8 [==============================] - 0s 5ms/step - loss: 0.6897 - accuracy: 0.5083 - val_loss: 0.7009 - val_accuracy: 0.4426\n",
      "Epoch 68/100\n",
      "8/8 [==============================] - 0s 5ms/step - loss: 0.6897 - accuracy: 0.5083 - val_loss: 0.7013 - val_accuracy: 0.4426\n",
      "Epoch 69/100\n",
      "8/8 [==============================] - 0s 5ms/step - loss: 0.6896 - accuracy: 0.5208 - val_loss: 0.7018 - val_accuracy: 0.4262\n",
      "Epoch 70/100\n",
      "8/8 [==============================] - 0s 5ms/step - loss: 0.6895 - accuracy: 0.5208 - val_loss: 0.7020 - val_accuracy: 0.4262\n",
      "Epoch 71/100\n",
      "8/8 [==============================] - 0s 5ms/step - loss: 0.6899 - accuracy: 0.4958 - val_loss: 0.7018 - val_accuracy: 0.4426\n",
      "Epoch 72/100\n",
      "8/8 [==============================] - 0s 5ms/step - loss: 0.6894 - accuracy: 0.5208 - val_loss: 0.7023 - val_accuracy: 0.4262\n",
      "Epoch 73/100\n",
      "8/8 [==============================] - 0s 5ms/step - loss: 0.6893 - accuracy: 0.5208 - val_loss: 0.7024 - val_accuracy: 0.4262\n",
      "Epoch 74/100\n",
      "8/8 [==============================] - 0s 5ms/step - loss: 0.6892 - accuracy: 0.5250 - val_loss: 0.7023 - val_accuracy: 0.4262\n",
      "Epoch 75/100\n",
      "8/8 [==============================] - 0s 5ms/step - loss: 0.6892 - accuracy: 0.5250 - val_loss: 0.7017 - val_accuracy: 0.4262\n",
      "Epoch 76/100\n",
      "8/8 [==============================] - 0s 5ms/step - loss: 0.6892 - accuracy: 0.5250 - val_loss: 0.7016 - val_accuracy: 0.4098\n",
      "Epoch 77/100\n",
      "8/8 [==============================] - 0s 8ms/step - loss: 0.6889 - accuracy: 0.5125 - val_loss: 0.7016 - val_accuracy: 0.4098\n",
      "Epoch 78/100\n",
      "8/8 [==============================] - 0s 9ms/step - loss: 0.6887 - accuracy: 0.5125 - val_loss: 0.7013 - val_accuracy: 0.4262\n",
      "Epoch 79/100\n",
      "8/8 [==============================] - 0s 6ms/step - loss: 0.6887 - accuracy: 0.5083 - val_loss: 0.7017 - val_accuracy: 0.4262\n",
      "Epoch 80/100\n",
      "8/8 [==============================] - 0s 5ms/step - loss: 0.6887 - accuracy: 0.5167 - val_loss: 0.7017 - val_accuracy: 0.4098\n",
      "Epoch 81/100\n",
      "8/8 [==============================] - 0s 5ms/step - loss: 0.6889 - accuracy: 0.5167 - val_loss: 0.7018 - val_accuracy: 0.4262\n",
      "Epoch 82/100\n",
      "8/8 [==============================] - 0s 5ms/step - loss: 0.6885 - accuracy: 0.5208 - val_loss: 0.7018 - val_accuracy: 0.4262\n",
      "Epoch 83/100\n",
      "8/8 [==============================] - 0s 5ms/step - loss: 0.6885 - accuracy: 0.5042 - val_loss: 0.7020 - val_accuracy: 0.4262\n",
      "Epoch 84/100\n",
      "8/8 [==============================] - 0s 5ms/step - loss: 0.6882 - accuracy: 0.5167 - val_loss: 0.7017 - val_accuracy: 0.4098\n",
      "Epoch 85/100\n",
      "8/8 [==============================] - 0s 8ms/step - loss: 0.6882 - accuracy: 0.5125 - val_loss: 0.7014 - val_accuracy: 0.4262\n",
      "Epoch 86/100\n",
      "8/8 [==============================] - 0s 6ms/step - loss: 0.6881 - accuracy: 0.5250 - val_loss: 0.7016 - val_accuracy: 0.4098\n",
      "Epoch 87/100\n",
      "8/8 [==============================] - 0s 8ms/step - loss: 0.6880 - accuracy: 0.5208 - val_loss: 0.7016 - val_accuracy: 0.4098\n",
      "Epoch 88/100\n",
      "8/8 [==============================] - 0s 5ms/step - loss: 0.6878 - accuracy: 0.5250 - val_loss: 0.7020 - val_accuracy: 0.4262\n",
      "Epoch 89/100\n",
      "8/8 [==============================] - 0s 5ms/step - loss: 0.6879 - accuracy: 0.5292 - val_loss: 0.7029 - val_accuracy: 0.4098\n",
      "Epoch 90/100\n",
      "8/8 [==============================] - 0s 5ms/step - loss: 0.6883 - accuracy: 0.5292 - val_loss: 0.7031 - val_accuracy: 0.4262\n",
      "Epoch 91/100\n",
      "8/8 [==============================] - 0s 5ms/step - loss: 0.6878 - accuracy: 0.5250 - val_loss: 0.7026 - val_accuracy: 0.4262\n",
      "Epoch 92/100\n",
      "8/8 [==============================] - 0s 5ms/step - loss: 0.6877 - accuracy: 0.5208 - val_loss: 0.7028 - val_accuracy: 0.4262\n",
      "Epoch 93/100\n",
      "8/8 [==============================] - 0s 5ms/step - loss: 0.6876 - accuracy: 0.5250 - val_loss: 0.7024 - val_accuracy: 0.4098\n",
      "Epoch 94/100\n",
      "8/8 [==============================] - 0s 5ms/step - loss: 0.6875 - accuracy: 0.5208 - val_loss: 0.7025 - val_accuracy: 0.4262\n",
      "Epoch 95/100\n",
      "8/8 [==============================] - 0s 5ms/step - loss: 0.6876 - accuracy: 0.5333 - val_loss: 0.7031 - val_accuracy: 0.4262\n",
      "Epoch 96/100\n",
      "8/8 [==============================] - 0s 5ms/step - loss: 0.6873 - accuracy: 0.5458 - val_loss: 0.7026 - val_accuracy: 0.4262\n",
      "Epoch 97/100\n",
      "8/8 [==============================] - 0s 5ms/step - loss: 0.6873 - accuracy: 0.5208 - val_loss: 0.7025 - val_accuracy: 0.4098\n",
      "Epoch 98/100\n",
      "8/8 [==============================] - 0s 5ms/step - loss: 0.6871 - accuracy: 0.5250 - val_loss: 0.7025 - val_accuracy: 0.4262\n",
      "Epoch 99/100\n",
      "8/8 [==============================] - 0s 4ms/step - loss: 0.6870 - accuracy: 0.5292 - val_loss: 0.7031 - val_accuracy: 0.4098\n",
      "Epoch 100/100\n",
      "8/8 [==============================] - 0s 5ms/step - loss: 0.6870 - accuracy: 0.5417 - val_loss: 0.7036 - val_accuracy: 0.4098\n"
     ]
    }
   ],
   "source": [
    "history = model.fit(X,y,epochs=100,validation_split=0.2)"
   ]
  },
  {
   "cell_type": "markdown",
   "metadata": {},
   "source": [
    "# weights after training"
   ]
  },
  {
   "cell_type": "code",
   "execution_count": 20,
   "metadata": {
    "colab": {
     "base_uri": "https://localhost:8080/"
    },
    "executionInfo": {
     "elapsed": 9,
     "status": "ok",
     "timestamp": 1656074982709,
     "user": {
      "displayName": "CampusX",
      "userId": "17274569631252575216"
     },
     "user_tz": -330
    },
    "id": "8K2E1Z5Oupj_",
    "outputId": "b2f6dae5-ea9a-4cc9-8668-1d54a7b78d9d"
   },
   "outputs": [
    {
     "data": {
      "text/plain": [
       "[array([[-0.60171837, -0.5366805 ,  1.6462764 ,  0.85570997, -0.06958797,\n",
       "         -1.2268001 , -0.8153107 ,  1.6383339 ,  0.5796141 , -0.9816743 ],\n",
       "        [-1.175506  , -1.2842038 , -0.06982733, -0.45762536, -2.0989    ,\n",
       "          0.32841197, -1.8913898 ,  1.1389453 ,  0.60753053,  0.33588958]],\n",
       "       dtype=float32),\n",
       " array([ 0.        ,  0.        , -0.00071525, -0.02539688,  0.        ,\n",
       "        -0.0206943 ,  0.        , -0.03614886,  0.00645621,  0.10653171],\n",
       "       dtype=float32),\n",
       " array([[ 0.39970642, -0.17054918, -0.26956868,  0.5235799 ,  0.11240346,\n",
       "          0.5490202 , -0.60385257,  0.25110322,  0.46623012, -0.38400936],\n",
       "        [ 0.2252051 , -0.27153888,  0.5200867 ,  0.21469118, -0.34977898,\n",
       "          0.73369306,  0.09410778, -0.5654367 ,  0.22538918,  0.3956151 ],\n",
       "        [-0.9805341 , -0.11724778,  0.21256742,  0.18554826,  0.14227806,\n",
       "         -0.9587852 , -0.537534  , -1.1815549 , -0.63468987,  0.56903636],\n",
       "        [-0.49499097,  0.39313683,  0.05856977,  0.5128308 ,  0.15979679,\n",
       "         -0.9695015 , -0.12505925, -0.23556702,  0.07842599,  0.6473148 ],\n",
       "        [-0.14403929,  0.54121614, -0.44431776, -0.21156958, -0.41673487,\n",
       "          0.04863566,  0.10500938,  0.4596352 ,  0.6483338 ,  0.3332782 ],\n",
       "        [ 0.11200213, -0.6318684 , -0.3974397 ,  0.6837408 , -0.07985669,\n",
       "         -0.5497493 ,  0.2939406 ,  0.24267149,  0.01606811,  0.10417962],\n",
       "        [-0.10902993,  0.24134684,  0.2770078 ,  0.51467514, -0.26197278,\n",
       "         -0.11661281,  0.33347926, -0.18735655, -0.40556258, -0.1696239 ],\n",
       "        [-0.2356624 ,  0.01383998,  0.70977926,  0.56059057,  0.4222954 ,\n",
       "          0.61146384, -0.4312239 ,  0.31496838, -0.13907528,  0.40231887],\n",
       "        [ 0.19830826, -0.07928372,  0.12126149, -0.90016574, -0.38155603,\n",
       "         -0.7001457 , -0.45339668, -0.10965049, -0.4319489 , -0.3895335 ],\n",
       "        [ 0.86174744,  0.20059358,  0.08473551,  0.08313833,  1.1985726 ,\n",
       "          0.43055364, -0.3235691 ,  0.36378923, -0.34301433, -0.10646167]],\n",
       "       dtype=float32),\n",
       " array([ 0.01937571, -0.00747749, -0.04930933,  0.05663717, -0.07629123,\n",
       "         0.12772076,  0.        , -0.04673738,  0.        , -0.04789246],\n",
       "       dtype=float32),\n",
       " array([[ 0.9496424 , -0.9734674 , -0.39938724, -0.6859256 , -0.6524213 ,\n",
       "          0.06689547,  0.46932203, -0.5461505 , -0.610849  ,  0.50517064],\n",
       "        [-0.26185572,  0.34414217, -0.84552616, -0.3987763 , -0.10317647,\n",
       "          0.09921733,  0.295873  ,  0.10799306,  0.2896765 ,  0.18774755],\n",
       "        [-0.20655169, -0.32094148, -0.08094075,  0.00364306,  0.9629255 ,\n",
       "         -0.4172882 , -0.1629181 ,  0.5730637 ,  0.6621604 ,  0.13594505],\n",
       "        [ 0.5681923 ,  0.1567699 , -0.1939652 , -0.39290157,  0.7937853 ,\n",
       "          0.40314266, -0.05026779, -0.84642124, -0.05642195,  0.22210759],\n",
       "        [-0.5323916 ,  0.5642429 , -0.10624207,  0.37626928,  0.19554785,\n",
       "         -0.433115  ,  0.47446665, -0.00436539,  0.1911113 ,  0.43630114],\n",
       "        [-0.3486462 ,  0.27688113, -0.06852875,  0.5517821 , -0.2503772 ,\n",
       "          0.82440335,  0.57263464,  0.6710661 ,  0.5379685 ,  0.34806308],\n",
       "        [-0.11926691, -0.12986313, -0.27598053,  0.15293601, -0.06746745,\n",
       "          0.03345753,  0.47603998, -0.07648465, -0.77026325,  0.65036166],\n",
       "        [ 0.42427468,  0.32182896, -0.2037927 , -0.57446873, -0.04554437,\n",
       "         -0.04562531,  0.81653225, -0.6928179 , -0.3435352 ,  1.1065731 ],\n",
       "        [-0.97001237,  0.84143037,  0.1745239 , -0.6737545 ,  0.16697136,\n",
       "         -0.9871133 , -0.4716032 , -0.06105786,  0.29967025,  0.02420266],\n",
       "        [ 0.5240542 ,  0.32397842, -0.26119658,  0.41715702, -0.8735308 ,\n",
       "          0.02147132, -0.09725935, -0.2543048 ,  0.2595535 , -0.79389286]],\n",
       "       dtype=float32),\n",
       " array([ 0.09520701, -0.07944088,  0.        ,  0.00993955,  0.02721758,\n",
       "         0.02254448,  0.09758519, -0.00119877, -0.04915947,  0.0630776 ],\n",
       "       dtype=float32),\n",
       " array([[ 0.6144307 ,  0.48499   ,  0.03985544,  0.24128644, -0.47257942,\n",
       "         -0.31068417,  0.39872953, -0.4728811 , -0.01643793,  0.46866807],\n",
       "        [-0.7881715 , -0.6983029 ,  0.4481595 ,  0.4999147 , -0.6014928 ,\n",
       "          0.67409813, -0.34849933,  0.5403944 , -0.7393484 ,  0.22538973],\n",
       "        [-0.31053442,  0.25232926,  0.35930696,  0.20525262,  0.6631295 ,\n",
       "         -0.7621318 , -0.14505516,  0.35868376,  0.2611942 ,  0.53604394],\n",
       "        [-0.20327564,  0.60599744, -0.7413348 , -0.6294679 , -0.5794511 ,\n",
       "         -0.371232  , -0.71123445, -0.21122597, -0.57269424, -0.36822093],\n",
       "        [ 1.0573319 ,  0.14349   ,  0.7620993 , -0.22557616, -0.43909016,\n",
       "         -1.0425224 , -0.21631047,  0.37781158, -0.36349082, -0.02725582],\n",
       "        [-0.78845626,  0.11339606,  0.02930937,  0.34671953, -0.18397395,\n",
       "          0.20108409,  0.5859932 ,  0.13236448, -0.18710949,  0.55856353],\n",
       "        [-0.5868129 ,  0.25129697,  0.6068728 ,  0.6483224 ,  0.42152044,\n",
       "         -0.27250582,  0.09191228,  0.7712148 , -0.03529513,  1.0122476 ],\n",
       "        [-0.06802844, -0.26659924, -0.71175283, -0.03172028, -0.51602453,\n",
       "          0.14790209,  0.1195396 ,  0.6737684 ,  0.69727737, -0.7936374 ],\n",
       "        [-0.46167243, -0.3453941 , -0.22583613, -0.66944486, -0.3893089 ,\n",
       "          0.89990056, -0.13213925,  0.6193105 , -0.06546086, -0.26865208],\n",
       "        [ 0.14607663, -0.3747335 ,  0.79636836,  0.8634624 ,  0.9076038 ,\n",
       "          0.55199677, -0.3026167 ,  0.43058202,  0.45091018, -0.06297855]],\n",
       "       dtype=float32),\n",
       " array([ 0.08750951, -0.08065681, -0.06120116,  0.01491781,  0.16336444,\n",
       "        -0.03454584, -0.01915068, -0.07147639, -0.1341686 ,  0.08631933],\n",
       "       dtype=float32),\n",
       " array([[ 0.21812594],\n",
       "        [-0.43973285],\n",
       "        [-0.03549679],\n",
       "        [ 0.9456324 ],\n",
       "        [ 0.9879229 ],\n",
       "        [-0.4170195 ],\n",
       "        [-0.54423136],\n",
       "        [-0.3345721 ],\n",
       "        [-0.19951023],\n",
       "        [ 0.91029847]], dtype=float32),\n",
       " array([0.08138371], dtype=float32)]"
      ]
     },
     "execution_count": 20,
     "metadata": {},
     "output_type": "execute_result"
    }
   ],
   "source": [
    "model.get_weights()"
   ]
  },
  {
   "cell_type": "markdown",
   "metadata": {},
   "source": [
    "# clearly the weights are changing it means the training happens."
   ]
  },
  {
   "cell_type": "code",
   "execution_count": 21,
   "metadata": {
    "colab": {
     "base_uri": "https://localhost:8080/",
     "height": 338
    },
    "executionInfo": {
     "elapsed": 4297,
     "status": "ok",
     "timestamp": 1656079608718,
     "user": {
      "displayName": "CampusX",
      "userId": "17274569631252575216"
     },
     "user_tz": -330
    },
    "id": "h2jKnSGeuuLY",
    "outputId": "a959a920-8398-4e16-b370-fabf274eff61"
   },
   "outputs": [
    {
     "name": "stdout",
     "output_type": "stream",
     "text": [
      "3888/3888 [==============================] - 3s 801us/step\n"
     ]
    },
    {
     "data": {
      "text/plain": [
       "<AxesSubplot:>"
      ]
     },
     "execution_count": 21,
     "metadata": {},
     "output_type": "execute_result"
    },
    {
     "data": {
      "image/png": "[encoded data removed]",
      "text/plain": [
       "<Figure size 432x288 with 1 Axes>"
      ]
     },
     "metadata": {
      "needs_background": "light"
     },
     "output_type": "display_data"
    }
   ],
   "source": [
    "from mlxtend.plotting import plot_decision_regions\n",
    "plot_decision_regions(X,y.astype('int'), clf=model, legend=2)"
   ]
  },
  {
   "cell_type": "code",
   "execution_count": 22,
   "metadata": {
    "colab": {
     "base_uri": "https://localhost:8080/"
    },
    "executionInfo": {
     "elapsed": 8,
     "status": "ok",
     "timestamp": 1656076625707,
     "user": {
      "displayName": "CampusX",
      "userId": "17274569631252575216"
     },
     "user_tz": -330
    },
    "id": "6cQtO9mpuxLI",
    "outputId": "141c2890-cc9b-44ee-bd6e-8a3b0c84004a"
   },
   "outputs": [
    {
     "data": {
      "text/plain": [
       "-0.032644206402040056"
      ]
     },
     "execution_count": 22,
     "metadata": {},
     "output_type": "execute_result"
    }
   ],
   "source": [
    "(np.random.randn(10,10)*0.01).min()"
   ]
  },
  {
   "cell_type": "code",
   "execution_count": 29,
   "metadata": {
    "colab": {
     "base_uri": "https://localhost:8080/"
    },
    "executionInfo": {
     "elapsed": 9,
     "status": "ok",
     "timestamp": 1656076639080,
     "user": {
      "displayName": "CampusX",
      "userId": "17274569631252575216"
     },
     "user_tz": -330
    },
    "id": "diiaUiL92T7H",
    "outputId": "82f87541-8dcc-4cb1-a3ff-cf31048421f3"
   },
   "outputs": [
    {
     "data": {
      "text/plain": [
       "0.017813267349627612"
      ]
     },
     "execution_count": 29,
     "metadata": {},
     "output_type": "execute_result"
    }
   ],
   "source": [
    "(np.random.randn(10,10)*0.01).max()"
   ]
  },
  {
   "cell_type": "code",
   "execution_count": null,
   "metadata": {
    "id": "b2DJRNfI3BOE"
   },
   "outputs": [],
   "source": []
  }
 ],
 "metadata": {
  "colab": {
   "authorship_tag": "ABX9TyP9NgMdCsrrIEVhBVTXGQg2",
   "name": "Untitled26.ipynb",
   "provenance": []
  },
  "kernelspec": {
   "display_name": "Python 3 (ipykernel)",
   "language": "python",
   "name": "python3"
  },
  "language_info": {
   "codemirror_mode": {
    "name": "ipython",
    "version": 3
   },
   "file_extension": ".py",
   "mimetype": "text/x-python",
   "name": "python",
   "nbconvert_exporter": "python",
   "pygments_lexer": "ipython3",
   "version": "3.9.7"
  }
 },
 "nbformat": 4,
 "nbformat_minor": 1
}
