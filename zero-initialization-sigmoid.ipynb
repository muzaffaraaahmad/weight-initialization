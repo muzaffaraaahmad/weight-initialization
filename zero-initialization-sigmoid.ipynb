{
 "cells": [
  {
   "cell_type": "code",
   "execution_count": 13,
   "metadata": {
    "executionInfo": {
     "elapsed": 1736,
     "status": "ok",
     "timestamp": 1655973890056,
     "user": {
      "displayName": "CampusX",
      "userId": "17274569631252575216"
     },
     "user_tz": -330
    },
    "id": "EZd6rozL3VIM"
   },
   "outputs": [],
   "source": [
    "import numpy as np\n",
    "import pandas as pd\n",
    "import matplotlib.pyplot as plt"
   ]
  },
  {
   "cell_type": "code",
   "execution_count": 14,
   "metadata": {
    "colab": {
     "base_uri": "https://localhost:8080/",
     "height": 353
    },
    "executionInfo": {
     "elapsed": 19,
     "status": "error",
     "timestamp": 1655973892030,
     "user": {
      "displayName": "CampusX",
      "userId": "17274569631252575216"
     },
     "user_tz": -330
    },
    "id": "-0CJPXS83kxQ",
    "outputId": "d3829246-25f1-45fa-aae3-d4306c9d1270"
   },
   "outputs": [],
   "source": [
    "df = pd.read_csv('ushape.csv')"
   ]
  },
  {
   "cell_type": "code",
   "execution_count": 15,
   "metadata": {
    "colab": {
     "base_uri": "https://localhost:8080/",
     "height": 206
    },
    "executionInfo": {
     "elapsed": 898,
     "status": "ok",
     "timestamp": 1655900727380,
     "user": {
      "displayName": "CampusX",
      "userId": "17274569631252575216"
     },
     "user_tz": -330
    },
    "id": "yjwHpySv3nD6",
    "outputId": "0d452dcf-eed6-4304-c126-9d57bdc3f52c"
   },
   "outputs": [
    {
     "data": {
      "text/html": [
       "<div>\n",
       "<style scoped>\n",
       "    .dataframe tbody tr th:only-of-type {\n",
       "        vertical-align: middle;\n",
       "    }\n",
       "\n",
       "    .dataframe tbody tr th {\n",
       "        vertical-align: top;\n",
       "    }\n",
       "\n",
       "    .dataframe thead th {\n",
       "        text-align: right;\n",
       "    }\n",
       "</style>\n",
       "<table border=\"1\" class=\"dataframe\">\n",
       "  <thead>\n",
       "    <tr style=\"text-align: right;\">\n",
       "      <th></th>\n",
       "      <th>X</th>\n",
       "      <th>Y</th>\n",
       "      <th>class</th>\n",
       "    </tr>\n",
       "  </thead>\n",
       "  <tbody>\n",
       "    <tr>\n",
       "      <th>0</th>\n",
       "      <td>0.455</td>\n",
       "      <td>0.365</td>\n",
       "      <td>1</td>\n",
       "    </tr>\n",
       "    <tr>\n",
       "      <th>1</th>\n",
       "      <td>0.350</td>\n",
       "      <td>0.265</td>\n",
       "      <td>0</td>\n",
       "    </tr>\n",
       "    <tr>\n",
       "      <th>2</th>\n",
       "      <td>0.530</td>\n",
       "      <td>0.420</td>\n",
       "      <td>0</td>\n",
       "    </tr>\n",
       "    <tr>\n",
       "      <th>3</th>\n",
       "      <td>0.440</td>\n",
       "      <td>0.365</td>\n",
       "      <td>1</td>\n",
       "    </tr>\n",
       "    <tr>\n",
       "      <th>4</th>\n",
       "      <td>0.330</td>\n",
       "      <td>0.255</td>\n",
       "      <td>1</td>\n",
       "    </tr>\n",
       "  </tbody>\n",
       "</table>\n",
       "</div>"
      ],
      "text/plain": [
       "       X      Y  class\n",
       "0  0.455  0.365      1\n",
       "1  0.350  0.265      0\n",
       "2  0.530  0.420      0\n",
       "3  0.440  0.365      1\n",
       "4  0.330  0.255      1"
      ]
     },
     "execution_count": 15,
     "metadata": {},
     "output_type": "execute_result"
    }
   ],
   "source": [
    "df.head()"
   ]
  },
  {
   "cell_type": "code",
   "execution_count": 16,
   "metadata": {
    "colab": {
     "base_uri": "https://localhost:8080/",
     "height": 283
    },
    "executionInfo": {
     "elapsed": 1419,
     "status": "ok",
     "timestamp": 1655900735708,
     "user": {
      "displayName": "CampusX",
      "userId": "17274569631252575216"
     },
     "user_tz": -330
    },
    "id": "gzRfDEgj3nzK",
    "outputId": "a42e8ce8-679b-4d42-a01f-41a378e793c0"
   },
   "outputs": [
    {
     "data": {
      "text/plain": [
       "<matplotlib.collections.PathCollection at 0x7fd0b04586d0>"
      ]
     },
     "execution_count": 16,
     "metadata": {},
     "output_type": "execute_result"
    },
    {
     "data": {
      "image/png": "[encoded data removed]",
      "text/plain": [
       "<Figure size 432x288 with 1 Axes>"
      ]
     },
     "metadata": {
      "needs_background": "light"
     },
     "output_type": "display_data"
    }
   ],
   "source": [
    "plt.scatter(df['X'],df['Y'],c=df['class'])"
   ]
  },
  {
   "cell_type": "code",
   "execution_count": 19,
   "metadata": {
    "executionInfo": {
     "elapsed": 717,
     "status": "ok",
     "timestamp": 1655900739315,
     "user": {
      "displayName": "CampusX",
      "userId": "17274569631252575216"
     },
     "user_tz": -330
    },
    "id": "VueL_H_-4Fxr"
   },
   "outputs": [],
   "source": [
    "X = df.iloc[:,0:2].values\n",
    "y = df.iloc[:,-1].values"
   ]
  },
  {
   "cell_type": "code",
   "execution_count": 20,
   "metadata": {
    "executionInfo": {
     "elapsed": 6,
     "status": "ok",
     "timestamp": 1655900740969,
     "user": {
      "displayName": "CampusX",
      "userId": "17274569631252575216"
     },
     "user_tz": -330
    },
    "id": "aLJYMP274XIV"
   },
   "outputs": [],
   "source": [
    "import tensorflow\n",
    "from tensorflow import keras\n",
    "from keras import Sequential\n",
    "from keras.layers import Dense"
   ]
  },
  {
   "cell_type": "markdown",
   "metadata": {},
   "source": [
    "# activation function = Sigmoid"
   ]
  },
  {
   "cell_type": "code",
   "execution_count": 21,
   "metadata": {
    "colab": {
     "base_uri": "https://localhost:8080/"
    },
    "executionInfo": {
     "elapsed": 707,
     "status": "ok",
     "timestamp": 1655900966506,
     "user": {
      "displayName": "CampusX",
      "userId": "17274569631252575216"
     },
     "user_tz": -330
    },
    "id": "Ec6aw2ft4nj2",
    "outputId": "80d399e4-b4b3-4a55-b3cc-cbf10b9f86b5"
   },
   "outputs": [
    {
     "name": "stdout",
     "output_type": "stream",
     "text": [
      "Model: \"sequential_1\"\n",
      "_________________________________________________________________\n",
      " Layer (type)                Output Shape              Param #   \n",
      "=================================================================\n",
      " dense_2 (Dense)             (None, 10)                30        \n",
      "                                                                 \n",
      " dense_3 (Dense)             (None, 1)                 11        \n",
      "                                                                 \n",
      "=================================================================\n",
      "Total params: 41\n",
      "Trainable params: 41\n",
      "Non-trainable params: 0\n",
      "_________________________________________________________________\n"
     ]
    }
   ],
   "source": [
    "model = Sequential()\n",
    "\n",
    "model.add(Dense(10,activation='sigmoid',input_dim=2))\n",
    "model.add(Dense(1,activation='sigmoid'))\n",
    "\n",
    "model.summary()"
   ]
  },
  {
   "cell_type": "code",
   "execution_count": 22,
   "metadata": {
    "colab": {
     "base_uri": "https://localhost:8080/"
    },
    "executionInfo": {
     "elapsed": 366,
     "status": "ok",
     "timestamp": 1655900981369,
     "user": {
      "displayName": "CampusX",
      "userId": "17274569631252575216"
     },
     "user_tz": -330
    },
    "id": "UiC2zbhh5E7u",
    "outputId": "4609c67b-fbf8-43f7-fb2f-bdd2ce92fe60"
   },
   "outputs": [
    {
     "data": {
      "text/plain": [
       "[array([[ 0.7033567 ,  0.51946205,  0.31797808, -0.5596703 ,  0.01801223,\n",
       "          0.28051525,  0.04725862, -0.4935561 ,  0.19260806, -0.29418668],\n",
       "        [ 0.10294521, -0.5918571 , -0.59508026, -0.16935563,  0.34631175,\n",
       "          0.6003879 ,  0.24253738, -0.09329474, -0.46297958,  0.25581837]],\n",
       "       dtype=float32),\n",
       " array([0., 0., 0., 0., 0., 0., 0., 0., 0., 0.], dtype=float32),\n",
       " array([[ 0.40333718],\n",
       "        [ 0.7201105 ],\n",
       "        [-0.2615214 ],\n",
       "        [-0.13271838],\n",
       "        [ 0.54854995],\n",
       "        [-0.04198664],\n",
       "        [-0.60837334],\n",
       "        [ 0.3055659 ],\n",
       "        [ 0.16901243],\n",
       "        [ 0.32529002]], dtype=float32),\n",
       " array([0.], dtype=float32)]"
      ]
     },
     "execution_count": 22,
     "metadata": {},
     "output_type": "execute_result"
    }
   ],
   "source": [
    "# Set parameters to 0\n",
    "model.get_weights()"
   ]
  },
  {
   "cell_type": "code",
   "execution_count": 23,
   "metadata": {
    "executionInfo": {
     "elapsed": 437,
     "status": "ok",
     "timestamp": 1655900985663,
     "user": {
      "displayName": "CampusX",
      "userId": "17274569631252575216"
     },
     "user_tz": -330
    },
    "id": "d2FB7EP46PXy"
   },
   "outputs": [],
   "source": [
    "initial_weights = model.get_weights()"
   ]
  },
  {
   "cell_type": "code",
   "execution_count": 24,
   "metadata": {
    "executionInfo": {
     "elapsed": 2,
     "status": "ok",
     "timestamp": 1655900986494,
     "user": {
      "displayName": "CampusX",
      "userId": "17274569631252575216"
     },
     "user_tz": -330
    },
    "id": "Bik184Ij5aQJ"
   },
   "outputs": [],
   "source": [
    "initial_weights[0] = np.zeros(model.get_weights()[0].shape)\n",
    "initial_weights[1] = np.zeros(model.get_weights()[1].shape)\n",
    "initial_weights[2] = np.zeros(model.get_weights()[2].shape)\n",
    "initial_weights[3] = np.zeros(model.get_weights()[3].shape)"
   ]
  },
  {
   "cell_type": "code",
   "execution_count": 25,
   "metadata": {
    "executionInfo": {
     "elapsed": 599,
     "status": "ok",
     "timestamp": 1655900987092,
     "user": {
      "displayName": "CampusX",
      "userId": "17274569631252575216"
     },
     "user_tz": -330
    },
    "id": "-u1RIZ_W5fXK"
   },
   "outputs": [],
   "source": [
    "model.set_weights(initial_weights)"
   ]
  },
  {
   "cell_type": "markdown",
   "metadata": {},
   "source": [
    "# wieghts before training"
   ]
  },
  {
   "cell_type": "code",
   "execution_count": 27,
   "metadata": {
    "colab": {
     "base_uri": "https://localhost:8080/"
    },
    "executionInfo": {
     "elapsed": 4,
     "status": "ok",
     "timestamp": 1655900987093,
     "user": {
      "displayName": "CampusX",
      "userId": "17274569631252575216"
     },
     "user_tz": -330
    },
    "id": "ryIDZEQs6fOa",
    "outputId": "98586a26-3422-4b4a-801c-d9f650abd17d"
   },
   "outputs": [
    {
     "data": {
      "text/plain": [
       "[array([[0., 0., 0., 0., 0., 0., 0., 0., 0., 0.],\n",
       "        [0., 0., 0., 0., 0., 0., 0., 0., 0., 0.]], dtype=float32),\n",
       " array([0., 0., 0., 0., 0., 0., 0., 0., 0., 0.], dtype=float32),\n",
       " array([[0.],\n",
       "        [0.],\n",
       "        [0.],\n",
       "        [0.],\n",
       "        [0.],\n",
       "        [0.],\n",
       "        [0.],\n",
       "        [0.],\n",
       "        [0.],\n",
       "        [0.]], dtype=float32),\n",
       " array([0.], dtype=float32)]"
      ]
     },
     "execution_count": 27,
     "metadata": {},
     "output_type": "execute_result"
    }
   ],
   "source": [
    "model.get_weights()"
   ]
  },
  {
   "cell_type": "code",
   "execution_count": 28,
   "metadata": {
    "executionInfo": {
     "elapsed": 553,
     "status": "ok",
     "timestamp": 1655900991105,
     "user": {
      "displayName": "CampusX",
      "userId": "17274569631252575216"
     },
     "user_tz": -330
    },
    "id": "6Vm5Nvfm6hkn"
   },
   "outputs": [],
   "source": [
    "model.compile(loss='binary_crossentropy',optimizer='adam',metrics=['accuracy'])"
   ]
  },
  {
   "cell_type": "code",
   "execution_count": 29,
   "metadata": {
    "colab": {
     "base_uri": "https://localhost:8080/"
    },
    "executionInfo": {
     "elapsed": 10876,
     "status": "ok",
     "timestamp": 1655901002618,
     "user": {
      "displayName": "CampusX",
      "userId": "17274569631252575216"
     },
     "user_tz": -330
    },
    "id": "-p_KvM6e62Xe",
    "outputId": "4ae45e3d-fe25-4fd2-d854-4832660db650"
   },
   "outputs": [
    {
     "name": "stdout",
     "output_type": "stream",
     "text": [
      "Epoch 1/100\n",
      "8/8 [==============================] - 1s 25ms/step - loss: 0.6933 - accuracy: 0.4875 - val_loss: 0.6933 - val_accuracy: 0.4590\n",
      "Epoch 2/100\n",
      "8/8 [==============================] - 0s 6ms/step - loss: 0.6932 - accuracy: 0.4958 - val_loss: 0.6932 - val_accuracy: 0.4590\n",
      "Epoch 3/100\n",
      "8/8 [==============================] - 0s 5ms/step - loss: 0.6932 - accuracy: 0.4792 - val_loss: 0.6929 - val_accuracy: 0.5410\n",
      "Epoch 4/100\n",
      "8/8 [==============================] - 0s 6ms/step - loss: 0.6931 - accuracy: 0.5042 - val_loss: 0.6928 - val_accuracy: 0.5410\n",
      "Epoch 5/100\n",
      "8/8 [==============================] - 0s 6ms/step - loss: 0.6932 - accuracy: 0.5042 - val_loss: 0.6926 - val_accuracy: 0.5410\n",
      "Epoch 6/100\n",
      "8/8 [==============================] - 0s 6ms/step - loss: 0.6933 - accuracy: 0.5042 - val_loss: 0.6927 - val_accuracy: 0.5410\n",
      "Epoch 7/100\n",
      "8/8 [==============================] - 0s 5ms/step - loss: 0.6932 - accuracy: 0.5042 - val_loss: 0.6923 - val_accuracy: 0.5410\n",
      "Epoch 8/100\n",
      "8/8 [==============================] - 0s 5ms/step - loss: 0.6931 - accuracy: 0.5042 - val_loss: 0.6923 - val_accuracy: 0.5410\n",
      "Epoch 9/100\n",
      "8/8 [==============================] - 0s 5ms/step - loss: 0.6932 - accuracy: 0.5042 - val_loss: 0.6925 - val_accuracy: 0.5410\n",
      "Epoch 10/100\n",
      "8/8 [==============================] - 0s 5ms/step - loss: 0.6932 - accuracy: 0.5042 - val_loss: 0.6925 - val_accuracy: 0.5410\n",
      "Epoch 11/100\n",
      "8/8 [==============================] - 0s 5ms/step - loss: 0.6932 - accuracy: 0.5042 - val_loss: 0.6927 - val_accuracy: 0.5410\n",
      "Epoch 12/100\n",
      "8/8 [==============================] - 0s 5ms/step - loss: 0.6932 - accuracy: 0.5042 - val_loss: 0.6928 - val_accuracy: 0.5410\n",
      "Epoch 13/100\n",
      "8/8 [==============================] - 0s 5ms/step - loss: 0.6931 - accuracy: 0.5042 - val_loss: 0.6926 - val_accuracy: 0.5410\n",
      "Epoch 14/100\n",
      "8/8 [==============================] - 0s 6ms/step - loss: 0.6931 - accuracy: 0.5042 - val_loss: 0.6925 - val_accuracy: 0.5410\n",
      "Epoch 15/100\n",
      "8/8 [==============================] - 0s 5ms/step - loss: 0.6931 - accuracy: 0.5042 - val_loss: 0.6926 - val_accuracy: 0.5410\n",
      "Epoch 16/100\n",
      "8/8 [==============================] - 0s 5ms/step - loss: 0.6931 - accuracy: 0.5042 - val_loss: 0.6927 - val_accuracy: 0.5410\n",
      "Epoch 17/100\n",
      "8/8 [==============================] - 0s 6ms/step - loss: 0.6932 - accuracy: 0.5042 - val_loss: 0.6927 - val_accuracy: 0.5410\n",
      "Epoch 18/100\n",
      "8/8 [==============================] - 0s 6ms/step - loss: 0.6932 - accuracy: 0.5042 - val_loss: 0.6929 - val_accuracy: 0.5410\n",
      "Epoch 19/100\n",
      "8/8 [==============================] - 0s 8ms/step - loss: 0.6933 - accuracy: 0.5042 - val_loss: 0.6927 - val_accuracy: 0.5410\n",
      "Epoch 20/100\n",
      "8/8 [==============================] - 0s 6ms/step - loss: 0.6932 - accuracy: 0.5042 - val_loss: 0.6929 - val_accuracy: 0.5410\n",
      "Epoch 21/100\n",
      "8/8 [==============================] - 0s 6ms/step - loss: 0.6931 - accuracy: 0.5042 - val_loss: 0.6928 - val_accuracy: 0.5410\n",
      "Epoch 22/100\n",
      "8/8 [==============================] - 0s 6ms/step - loss: 0.6933 - accuracy: 0.5042 - val_loss: 0.6925 - val_accuracy: 0.5410\n",
      "Epoch 23/100\n",
      "8/8 [==============================] - 0s 5ms/step - loss: 0.6932 - accuracy: 0.5042 - val_loss: 0.6928 - val_accuracy: 0.5410\n",
      "Epoch 24/100\n",
      "8/8 [==============================] - 0s 7ms/step - loss: 0.6932 - accuracy: 0.5042 - val_loss: 0.6928 - val_accuracy: 0.5410\n",
      "Epoch 25/100\n",
      "8/8 [==============================] - 0s 8ms/step - loss: 0.6932 - accuracy: 0.5042 - val_loss: 0.6926 - val_accuracy: 0.5410\n",
      "Epoch 26/100\n",
      "8/8 [==============================] - 0s 8ms/step - loss: 0.6932 - accuracy: 0.5042 - val_loss: 0.6924 - val_accuracy: 0.5410\n",
      "Epoch 27/100\n",
      "8/8 [==============================] - 0s 8ms/step - loss: 0.6932 - accuracy: 0.5042 - val_loss: 0.6923 - val_accuracy: 0.5410\n",
      "Epoch 28/100\n",
      "8/8 [==============================] - 0s 5ms/step - loss: 0.6932 - accuracy: 0.5042 - val_loss: 0.6924 - val_accuracy: 0.5410\n",
      "Epoch 29/100\n",
      "8/8 [==============================] - 0s 7ms/step - loss: 0.6932 - accuracy: 0.5042 - val_loss: 0.6924 - val_accuracy: 0.5410\n",
      "Epoch 30/100\n",
      "8/8 [==============================] - 0s 6ms/step - loss: 0.6932 - accuracy: 0.5042 - val_loss: 0.6922 - val_accuracy: 0.5410\n",
      "Epoch 31/100\n",
      "8/8 [==============================] - 0s 7ms/step - loss: 0.6931 - accuracy: 0.5042 - val_loss: 0.6922 - val_accuracy: 0.5410\n",
      "Epoch 32/100\n",
      "8/8 [==============================] - 0s 8ms/step - loss: 0.6932 - accuracy: 0.5042 - val_loss: 0.6924 - val_accuracy: 0.5410\n",
      "Epoch 33/100\n",
      "8/8 [==============================] - 0s 10ms/step - loss: 0.6931 - accuracy: 0.5042 - val_loss: 0.6923 - val_accuracy: 0.5410\n",
      "Epoch 34/100\n",
      "8/8 [==============================] - 0s 9ms/step - loss: 0.6931 - accuracy: 0.5042 - val_loss: 0.6923 - val_accuracy: 0.5410\n",
      "Epoch 35/100\n",
      "8/8 [==============================] - 0s 7ms/step - loss: 0.6932 - accuracy: 0.5042 - val_loss: 0.6924 - val_accuracy: 0.5410\n",
      "Epoch 36/100\n",
      "8/8 [==============================] - 0s 7ms/step - loss: 0.6932 - accuracy: 0.5042 - val_loss: 0.6922 - val_accuracy: 0.5410\n",
      "Epoch 37/100\n",
      "8/8 [==============================] - 0s 7ms/step - loss: 0.6932 - accuracy: 0.5042 - val_loss: 0.6922 - val_accuracy: 0.5410\n",
      "Epoch 38/100\n",
      "8/8 [==============================] - 0s 6ms/step - loss: 0.6932 - accuracy: 0.5042 - val_loss: 0.6924 - val_accuracy: 0.5410\n",
      "Epoch 39/100\n",
      "8/8 [==============================] - 0s 5ms/step - loss: 0.6932 - accuracy: 0.5042 - val_loss: 0.6923 - val_accuracy: 0.5410\n",
      "Epoch 40/100\n",
      "8/8 [==============================] - 0s 5ms/step - loss: 0.6932 - accuracy: 0.5042 - val_loss: 0.6923 - val_accuracy: 0.5410\n",
      "Epoch 41/100\n",
      "8/8 [==============================] - 0s 5ms/step - loss: 0.6931 - accuracy: 0.5042 - val_loss: 0.6924 - val_accuracy: 0.5410\n",
      "Epoch 42/100\n",
      "8/8 [==============================] - 0s 5ms/step - loss: 0.6933 - accuracy: 0.5042 - val_loss: 0.6928 - val_accuracy: 0.5410\n",
      "Epoch 43/100\n",
      "8/8 [==============================] - 0s 5ms/step - loss: 0.6931 - accuracy: 0.5042 - val_loss: 0.6928 - val_accuracy: 0.5410\n",
      "Epoch 44/100\n",
      "8/8 [==============================] - 0s 5ms/step - loss: 0.6932 - accuracy: 0.5042 - val_loss: 0.6926 - val_accuracy: 0.5410\n",
      "Epoch 45/100\n",
      "8/8 [==============================] - 0s 5ms/step - loss: 0.6932 - accuracy: 0.5042 - val_loss: 0.6925 - val_accuracy: 0.5410\n",
      "Epoch 46/100\n",
      "8/8 [==============================] - 0s 5ms/step - loss: 0.6932 - accuracy: 0.5042 - val_loss: 0.6926 - val_accuracy: 0.5410\n",
      "Epoch 47/100\n",
      "8/8 [==============================] - 0s 8ms/step - loss: 0.6931 - accuracy: 0.5042 - val_loss: 0.6927 - val_accuracy: 0.5410\n",
      "Epoch 48/100\n",
      "8/8 [==============================] - 0s 5ms/step - loss: 0.6932 - accuracy: 0.5042 - val_loss: 0.6926 - val_accuracy: 0.5410\n",
      "Epoch 49/100\n",
      "8/8 [==============================] - 0s 7ms/step - loss: 0.6931 - accuracy: 0.5042 - val_loss: 0.6925 - val_accuracy: 0.5410\n",
      "Epoch 50/100\n",
      "8/8 [==============================] - 0s 6ms/step - loss: 0.6932 - accuracy: 0.5042 - val_loss: 0.6924 - val_accuracy: 0.5410\n",
      "Epoch 51/100\n",
      "8/8 [==============================] - 0s 5ms/step - loss: 0.6931 - accuracy: 0.5042 - val_loss: 0.6925 - val_accuracy: 0.5410\n",
      "Epoch 52/100\n",
      "8/8 [==============================] - 0s 5ms/step - loss: 0.6933 - accuracy: 0.5042 - val_loss: 0.6927 - val_accuracy: 0.5410\n",
      "Epoch 53/100\n",
      "8/8 [==============================] - 0s 5ms/step - loss: 0.6931 - accuracy: 0.5042 - val_loss: 0.6926 - val_accuracy: 0.5410\n",
      "Epoch 54/100\n",
      "8/8 [==============================] - 0s 5ms/step - loss: 0.6931 - accuracy: 0.5042 - val_loss: 0.6925 - val_accuracy: 0.5410\n",
      "Epoch 55/100\n",
      "8/8 [==============================] - 0s 5ms/step - loss: 0.6932 - accuracy: 0.5042 - val_loss: 0.6926 - val_accuracy: 0.5410\n",
      "Epoch 56/100\n",
      "8/8 [==============================] - 0s 7ms/step - loss: 0.6932 - accuracy: 0.5042 - val_loss: 0.6926 - val_accuracy: 0.5410\n",
      "Epoch 57/100\n",
      "8/8 [==============================] - 0s 8ms/step - loss: 0.6932 - accuracy: 0.5042 - val_loss: 0.6927 - val_accuracy: 0.5410\n",
      "Epoch 58/100\n",
      "8/8 [==============================] - 0s 5ms/step - loss: 0.6931 - accuracy: 0.5042 - val_loss: 0.6926 - val_accuracy: 0.5410\n",
      "Epoch 59/100\n"
     ]
    },
    {
     "name": "stdout",
     "output_type": "stream",
     "text": [
      "8/8 [==============================] - 0s 5ms/step - loss: 0.6932 - accuracy: 0.5042 - val_loss: 0.6924 - val_accuracy: 0.5410\n",
      "Epoch 60/100\n",
      "8/8 [==============================] - 0s 5ms/step - loss: 0.6932 - accuracy: 0.5042 - val_loss: 0.6924 - val_accuracy: 0.5410\n",
      "Epoch 61/100\n",
      "8/8 [==============================] - 0s 5ms/step - loss: 0.6931 - accuracy: 0.5042 - val_loss: 0.6926 - val_accuracy: 0.5410\n",
      "Epoch 62/100\n",
      "8/8 [==============================] - 0s 5ms/step - loss: 0.6931 - accuracy: 0.5042 - val_loss: 0.6926 - val_accuracy: 0.5410\n",
      "Epoch 63/100\n",
      "8/8 [==============================] - 0s 5ms/step - loss: 0.6933 - accuracy: 0.5042 - val_loss: 0.6924 - val_accuracy: 0.5410\n",
      "Epoch 64/100\n",
      "8/8 [==============================] - 0s 5ms/step - loss: 0.6931 - accuracy: 0.5042 - val_loss: 0.6927 - val_accuracy: 0.5410\n",
      "Epoch 65/100\n",
      "8/8 [==============================] - 0s 5ms/step - loss: 0.6931 - accuracy: 0.5042 - val_loss: 0.6928 - val_accuracy: 0.5410\n",
      "Epoch 66/100\n",
      "8/8 [==============================] - 0s 5ms/step - loss: 0.6932 - accuracy: 0.5042 - val_loss: 0.6929 - val_accuracy: 0.5410\n",
      "Epoch 67/100\n",
      "8/8 [==============================] - 0s 5ms/step - loss: 0.6932 - accuracy: 0.5042 - val_loss: 0.6930 - val_accuracy: 0.5410\n",
      "Epoch 68/100\n",
      "8/8 [==============================] - 0s 6ms/step - loss: 0.6932 - accuracy: 0.5042 - val_loss: 0.6930 - val_accuracy: 0.5410\n",
      "Epoch 69/100\n",
      "8/8 [==============================] - 0s 8ms/step - loss: 0.6932 - accuracy: 0.5042 - val_loss: 0.6930 - val_accuracy: 0.5410\n",
      "Epoch 70/100\n",
      "8/8 [==============================] - 0s 6ms/step - loss: 0.6931 - accuracy: 0.5042 - val_loss: 0.6931 - val_accuracy: 0.5410\n",
      "Epoch 71/100\n",
      "8/8 [==============================] - 0s 6ms/step - loss: 0.6932 - accuracy: 0.4542 - val_loss: 0.6931 - val_accuracy: 0.5410\n",
      "Epoch 72/100\n",
      "8/8 [==============================] - 0s 6ms/step - loss: 0.6932 - accuracy: 0.5042 - val_loss: 0.6931 - val_accuracy: 0.5410\n",
      "Epoch 73/100\n",
      "8/8 [==============================] - 0s 6ms/step - loss: 0.6932 - accuracy: 0.5042 - val_loss: 0.6930 - val_accuracy: 0.5410\n",
      "Epoch 74/100\n",
      "8/8 [==============================] - 0s 6ms/step - loss: 0.6932 - accuracy: 0.5042 - val_loss: 0.6930 - val_accuracy: 0.5410\n",
      "Epoch 75/100\n",
      "8/8 [==============================] - 0s 5ms/step - loss: 0.6932 - accuracy: 0.5042 - val_loss: 0.6929 - val_accuracy: 0.5410\n",
      "Epoch 76/100\n",
      "8/8 [==============================] - 0s 5ms/step - loss: 0.6933 - accuracy: 0.4708 - val_loss: 0.6933 - val_accuracy: 0.4590\n",
      "Epoch 77/100\n",
      "8/8 [==============================] - 0s 6ms/step - loss: 0.6932 - accuracy: 0.4958 - val_loss: 0.6931 - val_accuracy: 0.4590\n",
      "Epoch 78/100\n",
      "8/8 [==============================] - 0s 8ms/step - loss: 0.6933 - accuracy: 0.4542 - val_loss: 0.6929 - val_accuracy: 0.5410\n",
      "Epoch 79/100\n",
      "8/8 [==============================] - 0s 6ms/step - loss: 0.6931 - accuracy: 0.5042 - val_loss: 0.6930 - val_accuracy: 0.5410\n",
      "Epoch 80/100\n",
      "8/8 [==============================] - 0s 5ms/step - loss: 0.6932 - accuracy: 0.5042 - val_loss: 0.6931 - val_accuracy: 0.5410\n",
      "Epoch 81/100\n",
      "8/8 [==============================] - 0s 6ms/step - loss: 0.6932 - accuracy: 0.5042 - val_loss: 0.6930 - val_accuracy: 0.5410\n",
      "Epoch 82/100\n",
      "8/8 [==============================] - 0s 6ms/step - loss: 0.6931 - accuracy: 0.5042 - val_loss: 0.6927 - val_accuracy: 0.5410\n",
      "Epoch 83/100\n",
      "8/8 [==============================] - 0s 7ms/step - loss: 0.6931 - accuracy: 0.5042 - val_loss: 0.6924 - val_accuracy: 0.5410\n",
      "Epoch 84/100\n",
      "8/8 [==============================] - 0s 6ms/step - loss: 0.6932 - accuracy: 0.5042 - val_loss: 0.6922 - val_accuracy: 0.5410\n",
      "Epoch 85/100\n",
      "8/8 [==============================] - 0s 6ms/step - loss: 0.6931 - accuracy: 0.5042 - val_loss: 0.6922 - val_accuracy: 0.5410\n",
      "Epoch 86/100\n",
      "8/8 [==============================] - 0s 4ms/step - loss: 0.6931 - accuracy: 0.5042 - val_loss: 0.6923 - val_accuracy: 0.5410\n",
      "Epoch 87/100\n",
      "8/8 [==============================] - 0s 5ms/step - loss: 0.6932 - accuracy: 0.5042 - val_loss: 0.6924 - val_accuracy: 0.5410\n",
      "Epoch 88/100\n",
      "8/8 [==============================] - 0s 5ms/step - loss: 0.6932 - accuracy: 0.5042 - val_loss: 0.6925 - val_accuracy: 0.5410\n",
      "Epoch 89/100\n",
      "8/8 [==============================] - 0s 5ms/step - loss: 0.6932 - accuracy: 0.5042 - val_loss: 0.6925 - val_accuracy: 0.5410\n",
      "Epoch 90/100\n",
      "8/8 [==============================] - 0s 5ms/step - loss: 0.6932 - accuracy: 0.5042 - val_loss: 0.6925 - val_accuracy: 0.5410\n",
      "Epoch 91/100\n",
      "8/8 [==============================] - 0s 5ms/step - loss: 0.6931 - accuracy: 0.5042 - val_loss: 0.6925 - val_accuracy: 0.5410\n",
      "Epoch 92/100\n",
      "8/8 [==============================] - 0s 5ms/step - loss: 0.6931 - accuracy: 0.5042 - val_loss: 0.6925 - val_accuracy: 0.5410\n",
      "Epoch 93/100\n",
      "8/8 [==============================] - 0s 5ms/step - loss: 0.6934 - accuracy: 0.5042 - val_loss: 0.6928 - val_accuracy: 0.5410\n",
      "Epoch 94/100\n",
      "8/8 [==============================] - 0s 8ms/step - loss: 0.6931 - accuracy: 0.5042 - val_loss: 0.6926 - val_accuracy: 0.5410\n",
      "Epoch 95/100\n",
      "8/8 [==============================] - 0s 6ms/step - loss: 0.6931 - accuracy: 0.5042 - val_loss: 0.6924 - val_accuracy: 0.5410\n",
      "Epoch 96/100\n",
      "8/8 [==============================] - 0s 5ms/step - loss: 0.6932 - accuracy: 0.5042 - val_loss: 0.6922 - val_accuracy: 0.5410\n",
      "Epoch 97/100\n",
      "8/8 [==============================] - 0s 5ms/step - loss: 0.6931 - accuracy: 0.5042 - val_loss: 0.6922 - val_accuracy: 0.5410\n",
      "Epoch 98/100\n",
      "8/8 [==============================] - 0s 5ms/step - loss: 0.6932 - accuracy: 0.5042 - val_loss: 0.6924 - val_accuracy: 0.5410\n",
      "Epoch 99/100\n",
      "8/8 [==============================] - 0s 5ms/step - loss: 0.6931 - accuracy: 0.5042 - val_loss: 0.6923 - val_accuracy: 0.5410\n",
      "Epoch 100/100\n",
      "8/8 [==============================] - 0s 5ms/step - loss: 0.6931 - accuracy: 0.5042 - val_loss: 0.6922 - val_accuracy: 0.5410\n"
     ]
    }
   ],
   "source": [
    "history = model.fit(X,y,epochs=100,validation_split=0.2)"
   ]
  },
  {
   "cell_type": "markdown",
   "metadata": {},
   "source": [
    "# weights after training"
   ]
  },
  {
   "cell_type": "code",
   "execution_count": 30,
   "metadata": {
    "colab": {
     "base_uri": "https://localhost:8080/"
    },
    "executionInfo": {
     "elapsed": 371,
     "status": "ok",
     "timestamp": 1655901004741,
     "user": {
      "displayName": "CampusX",
      "userId": "17274569631252575216"
     },
     "user_tz": -330
    },
    "id": "Y58LpwyB7HBr",
    "outputId": "d45719c1-8694-4f32-ef4c-8a7b302b1aba"
   },
   "outputs": [
    {
     "data": {
      "text/plain": [
       "[array([[-0.00039964, -0.00039964, -0.00039964, -0.00039964, -0.00039964,\n",
       "         -0.00039964, -0.00039964, -0.00039964, -0.00039964, -0.00039964],\n",
       "        [ 0.03943081,  0.03943081,  0.03943081,  0.03943081,  0.03943081,\n",
       "          0.03943081,  0.03943081,  0.03943081,  0.03943081,  0.03943081]],\n",
       "       dtype=float32),\n",
       " array([-0.05328349, -0.05328349, -0.05328349, -0.05328349, -0.05328349,\n",
       "        -0.05328349, -0.05328349, -0.05328349, -0.05328349, -0.05328349],\n",
       "       dtype=float32),\n",
       " array([[-0.0040999],\n",
       "        [-0.0040999],\n",
       "        [-0.0040999],\n",
       "        [-0.0040999],\n",
       "        [-0.0040999],\n",
       "        [-0.0040999],\n",
       "        [-0.0040999],\n",
       "        [-0.0040999],\n",
       "        [-0.0040999],\n",
       "        [-0.0040999]], dtype=float32),\n",
       " array([-0.00389208], dtype=float32)]"
      ]
     },
     "execution_count": 30,
     "metadata": {},
     "output_type": "execute_result"
    }
   ],
   "source": [
    "model.get_weights()"
   ]
  },
  {
   "cell_type": "markdown",
   "metadata": {},
   "source": [
    "# clearly the set of wieghts  for each neuron us same "
   ]
  },
  {
   "cell_type": "code",
   "execution_count": 31,
   "metadata": {
    "colab": {
     "base_uri": "https://localhost:8080/",
     "height": 338
    },
    "executionInfo": {
     "elapsed": 3812,
     "status": "ok",
     "timestamp": 1655901044930,
     "user": {
      "displayName": "CampusX",
      "userId": "17274569631252575216"
     },
     "user_tz": -330
    },
    "id": "9_DuSK3N7PDE",
    "outputId": "ad88b79f-6d43-4a76-fcaf-74844d79bdd0"
   },
   "outputs": [
    {
     "name": "stdout",
     "output_type": "stream",
     "text": [
      "3888/3888 [==============================] - 3s 760us/step\n"
     ]
    },
    {
     "name": "stderr",
     "output_type": "stream",
     "text": [
      "/Users/abc/opt/anaconda3/lib/python3.9/site-packages/mlxtend/plotting/decision_regions.py:269: UserWarning: No contour levels were found within the data range.\n",
      "  ax.contour(xx, yy, Z, cset.levels, **contour_kwargs)\n"
     ]
    },
    {
     "data": {
      "text/plain": [
       "<AxesSubplot:>"
      ]
     },
     "execution_count": 31,
     "metadata": {},
     "output_type": "execute_result"
    },
    {
     "data": {
      "image/png": "[encoded data removed]",
      "text/plain": [
       "<Figure size 432x288 with 1 Axes>"
      ]
     },
     "metadata": {
      "needs_background": "light"
     },
     "output_type": "display_data"
    }
   ],
   "source": [
    "from mlxtend.plotting import plot_decision_regions\n",
    "plot_decision_regions(X,y.astype('int'), clf=model, legend=2)"
   ]
  },
  {
   "cell_type": "code",
   "execution_count": 38,
   "metadata": {
    "executionInfo": {
     "elapsed": 421,
     "status": "ok",
     "timestamp": 1655893380942,
     "user": {
      "displayName": "CampusX",
      "userId": "17274569631252575216"
     },
     "user_tz": -330
    },
    "id": "hof12Hqs7oya"
   },
   "outputs": [],
   "source": [
    "\n"
   ]
  },
  {
   "cell_type": "code",
   "execution_count": null,
   "metadata": {
    "id": "a2nPmjYs74uY"
   },
   "outputs": [],
   "source": []
  }
 ],
 "metadata": {
  "colab": {
   "authorship_tag": "ABX9TyMxnLbEey+fUx2NWJwKxbIP",
   "collapsed_sections": [],
   "name": "zero-initialization-sigmoid.ipynb",
   "provenance": []
  },
  "kernelspec": {
   "display_name": "Python 3 (ipykernel)",
   "language": "python",
   "name": "python3"
  },
  "language_info": {
   "codemirror_mode": {
    "name": "ipython",
    "version": 3
   },
   "file_extension": ".py",
   "mimetype": "text/x-python",
   "name": "python",
   "nbconvert_exporter": "python",
   "pygments_lexer": "ipython3",
   "version": "3.9.7"
  }
 },
 "nbformat": 4,
 "nbformat_minor": 1
}
